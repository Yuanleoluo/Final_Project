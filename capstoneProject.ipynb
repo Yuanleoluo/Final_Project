{
 "cells": [
  {
   "cell_type": "markdown",
   "metadata": {},
   "source": [
    "# Capstone project"
   ]
  },
  {
   "cell_type": "code",
   "execution_count": 207,
   "metadata": {},
   "outputs": [],
   "source": [
    "import pandas as pd\n",
    "import numpy as np\n",
    "import seaborn as sn\n",
    "import matplotlib.pyplot as plt"
   ]
  },
  {
   "cell_type": "markdown",
   "metadata": {},
   "source": [
    "# Methodology:\n",
    "1. Introduction to the problem\n",
    "2. Data\n",
    "3. EDA(exploratory data analysis)<br/>\n",
    "   I. data dimension<br/>\n",
    "   II. data sample<br/>\n",
    "   III. features/columns<br/>\n",
    "   IV. check duplicate value<br/>\n",
    "   V. Target variable(depended feature) analysis<br/>\n",
    "   VI. missing values and data types\n",
    "4. Data preparation <br/>\n",
    "   I. data cleaning(drop columns and filling missing values) <br/>\n",
    "   II. data engineering <br/>\n",
    "   III. handle outliers <br/>\n",
    "   IV. data encoding\n",
    "5. Feature Selection <br/>\n",
    "   I. Univariate Selection <br/>\n",
    "   II. Feature Importance<br/>\n",
    "6. Model Building. \n",
    "7. Model Evaluation\n",
    "8. Conclusion"
   ]
  },
  {
   "cell_type": "markdown",
   "metadata": {},
   "source": [
    "<h1> 1. Introduction to the problem"
   ]
  },
  {
   "cell_type": "markdown",
   "metadata": {},
   "source": [
    "For a long time, car collisions have not only been the center of commuter's stress points, it also causes great amounts of damage to public infrastructure and resources such as road signs, traffic lights, and emergency calls that invoke police, firefighters, and ambulances. If city planners can clearly identify what causes these damages, perhaps we can reshape the city to reduce the severity of collisions."
   ]
  },
  {
   "cell_type": "markdown",
   "metadata": {},
   "source": [
    "<h1> 2. Data"
   ]
  },
  {
   "cell_type": "code",
   "execution_count": 208,
   "metadata": {},
   "outputs": [
    {
     "name": "stderr",
     "output_type": "stream",
     "text": [
      "C:\\Users\\leo\\anaconda3\\lib\\site-packages\\IPython\\core\\interactiveshell.py:3071: DtypeWarning: Columns (33) have mixed types.Specify dtype option on import or set low_memory=False.\n",
      "  has_raised = await self.run_ast_nodes(code_ast.body, cell_name,\n"
     ]
    }
   ],
   "source": [
    "df = pd.read_csv('../Data-Collisions.csv')"
   ]
  },
  {
   "cell_type": "markdown",
   "metadata": {},
   "source": [
    "The data we will be using is provided by SPD(seattle police department) and recorded by Traffic Records. The time frame of the data starts from 2004 to present and it has been updated weekly. The data consists of 194673 collisions and 37(not counting index) attributes/columns with the target/dependent variable/feature 'SEVERITYCODE' and 36 independent variables/features. Although metadata dictates that there are 5 severity codes(0-3, 2b), the data frame consists of only 1(136486) or 2(58188). Therefore, each attribute will be used to classify whether they belong to 'SEVERITYCODE' 1 or 2. Before that, we will fill the missing values or deleted columns with large amount of missing values. After the data is properly prepared, we will encode the categorical features and normalize it along with numerical features before testing their relevance to target variable 'SEVERITYCODE'. The final step will be to select a hand full of relevant features and feed it to the model."
   ]
  },
  {
   "cell_type": "markdown",
   "metadata": {},
   "source": [
    "# 3. EDA(exploratory data analysis):\n",
    "    I. data dimension\n",
    "    II. data sample\n",
    "    III. features/columns\n",
    "    IV. check duplicate value\n",
    "    V. Target variable(depended feature) analysis\n",
    "    VI. missing values and data types"
   ]
  },
  {
   "cell_type": "markdown",
   "metadata": {},
   "source": [
    "**I. data dimension**"
   ]
  },
  {
   "cell_type": "code",
   "execution_count": 209,
   "metadata": {},
   "outputs": [
    {
     "data": {
      "text/plain": [
       "(194673, 38)"
      ]
     },
     "execution_count": 209,
     "metadata": {},
     "output_type": "execute_result"
    }
   ],
   "source": [
    "# dimenson\n",
    "df.shape"
   ]
  },
  {
   "cell_type": "markdown",
   "metadata": {},
   "source": [
    "**II. data sample**"
   ]
  },
  {
   "cell_type": "code",
   "execution_count": 210,
   "metadata": {},
   "outputs": [
    {
     "data": {
      "text/html": [
       "<div>\n",
       "<style scoped>\n",
       "    .dataframe tbody tr th:only-of-type {\n",
       "        vertical-align: middle;\n",
       "    }\n",
       "\n",
       "    .dataframe tbody tr th {\n",
       "        vertical-align: top;\n",
       "    }\n",
       "\n",
       "    .dataframe thead th {\n",
       "        text-align: right;\n",
       "    }\n",
       "</style>\n",
       "<table border=\"1\" class=\"dataframe\">\n",
       "  <thead>\n",
       "    <tr style=\"text-align: right;\">\n",
       "      <th></th>\n",
       "      <th>SEVERITYCODE</th>\n",
       "      <th>X</th>\n",
       "      <th>Y</th>\n",
       "      <th>OBJECTID</th>\n",
       "      <th>INCKEY</th>\n",
       "      <th>COLDETKEY</th>\n",
       "      <th>REPORTNO</th>\n",
       "      <th>STATUS</th>\n",
       "      <th>ADDRTYPE</th>\n",
       "      <th>INTKEY</th>\n",
       "      <th>LOCATION</th>\n",
       "      <th>EXCEPTRSNCODE</th>\n",
       "      <th>EXCEPTRSNDESC</th>\n",
       "      <th>SEVERITYCODE.1</th>\n",
       "      <th>SEVERITYDESC</th>\n",
       "      <th>COLLISIONTYPE</th>\n",
       "      <th>PERSONCOUNT</th>\n",
       "      <th>PEDCOUNT</th>\n",
       "      <th>PEDCYLCOUNT</th>\n",
       "      <th>VEHCOUNT</th>\n",
       "      <th>INCDATE</th>\n",
       "      <th>INCDTTM</th>\n",
       "      <th>JUNCTIONTYPE</th>\n",
       "      <th>SDOT_COLCODE</th>\n",
       "      <th>SDOT_COLDESC</th>\n",
       "      <th>INATTENTIONIND</th>\n",
       "      <th>UNDERINFL</th>\n",
       "      <th>WEATHER</th>\n",
       "      <th>ROADCOND</th>\n",
       "      <th>LIGHTCOND</th>\n",
       "      <th>PEDROWNOTGRNT</th>\n",
       "      <th>SDOTCOLNUM</th>\n",
       "      <th>SPEEDING</th>\n",
       "      <th>ST_COLCODE</th>\n",
       "      <th>ST_COLDESC</th>\n",
       "      <th>SEGLANEKEY</th>\n",
       "      <th>CROSSWALKKEY</th>\n",
       "      <th>HITPARKEDCAR</th>\n",
       "    </tr>\n",
       "  </thead>\n",
       "  <tbody>\n",
       "    <tr>\n",
       "      <th>0</th>\n",
       "      <td>2</td>\n",
       "      <td>-122.323148</td>\n",
       "      <td>47.703140</td>\n",
       "      <td>1</td>\n",
       "      <td>1307</td>\n",
       "      <td>1307</td>\n",
       "      <td>3502005</td>\n",
       "      <td>Matched</td>\n",
       "      <td>Intersection</td>\n",
       "      <td>37475.0</td>\n",
       "      <td>5TH AVE NE AND NE 103RD ST</td>\n",
       "      <td></td>\n",
       "      <td>NaN</td>\n",
       "      <td>2</td>\n",
       "      <td>Injury Collision</td>\n",
       "      <td>Angles</td>\n",
       "      <td>2</td>\n",
       "      <td>0</td>\n",
       "      <td>0</td>\n",
       "      <td>2</td>\n",
       "      <td>2013/03/27 00:00:00+00</td>\n",
       "      <td>3/27/2013 2:54:00 PM</td>\n",
       "      <td>At Intersection (intersection related)</td>\n",
       "      <td>11</td>\n",
       "      <td>MOTOR VEHICLE STRUCK MOTOR VEHICLE, FRONT END ...</td>\n",
       "      <td>NaN</td>\n",
       "      <td>N</td>\n",
       "      <td>Overcast</td>\n",
       "      <td>Wet</td>\n",
       "      <td>Daylight</td>\n",
       "      <td>NaN</td>\n",
       "      <td>NaN</td>\n",
       "      <td>NaN</td>\n",
       "      <td>10</td>\n",
       "      <td>Entering at angle</td>\n",
       "      <td>0</td>\n",
       "      <td>0</td>\n",
       "      <td>N</td>\n",
       "    </tr>\n",
       "    <tr>\n",
       "      <th>1</th>\n",
       "      <td>1</td>\n",
       "      <td>-122.347294</td>\n",
       "      <td>47.647172</td>\n",
       "      <td>2</td>\n",
       "      <td>52200</td>\n",
       "      <td>52200</td>\n",
       "      <td>2607959</td>\n",
       "      <td>Matched</td>\n",
       "      <td>Block</td>\n",
       "      <td>NaN</td>\n",
       "      <td>AURORA BR BETWEEN RAYE ST AND BRIDGE WAY N</td>\n",
       "      <td>NaN</td>\n",
       "      <td>NaN</td>\n",
       "      <td>1</td>\n",
       "      <td>Property Damage Only Collision</td>\n",
       "      <td>Sideswipe</td>\n",
       "      <td>2</td>\n",
       "      <td>0</td>\n",
       "      <td>0</td>\n",
       "      <td>2</td>\n",
       "      <td>2006/12/20 00:00:00+00</td>\n",
       "      <td>12/20/2006 6:55:00 PM</td>\n",
       "      <td>Mid-Block (not related to intersection)</td>\n",
       "      <td>16</td>\n",
       "      <td>MOTOR VEHICLE STRUCK MOTOR VEHICLE, LEFT SIDE ...</td>\n",
       "      <td>NaN</td>\n",
       "      <td>0</td>\n",
       "      <td>Raining</td>\n",
       "      <td>Wet</td>\n",
       "      <td>Dark - Street Lights On</td>\n",
       "      <td>NaN</td>\n",
       "      <td>6354039.0</td>\n",
       "      <td>NaN</td>\n",
       "      <td>11</td>\n",
       "      <td>From same direction - both going straight - bo...</td>\n",
       "      <td>0</td>\n",
       "      <td>0</td>\n",
       "      <td>N</td>\n",
       "    </tr>\n",
       "    <tr>\n",
       "      <th>2</th>\n",
       "      <td>1</td>\n",
       "      <td>-122.334540</td>\n",
       "      <td>47.607871</td>\n",
       "      <td>3</td>\n",
       "      <td>26700</td>\n",
       "      <td>26700</td>\n",
       "      <td>1482393</td>\n",
       "      <td>Matched</td>\n",
       "      <td>Block</td>\n",
       "      <td>NaN</td>\n",
       "      <td>4TH AVE BETWEEN SENECA ST AND UNIVERSITY ST</td>\n",
       "      <td>NaN</td>\n",
       "      <td>NaN</td>\n",
       "      <td>1</td>\n",
       "      <td>Property Damage Only Collision</td>\n",
       "      <td>Parked Car</td>\n",
       "      <td>4</td>\n",
       "      <td>0</td>\n",
       "      <td>0</td>\n",
       "      <td>3</td>\n",
       "      <td>2004/11/18 00:00:00+00</td>\n",
       "      <td>11/18/2004 10:20:00 AM</td>\n",
       "      <td>Mid-Block (not related to intersection)</td>\n",
       "      <td>14</td>\n",
       "      <td>MOTOR VEHICLE STRUCK MOTOR VEHICLE, REAR END</td>\n",
       "      <td>NaN</td>\n",
       "      <td>0</td>\n",
       "      <td>Overcast</td>\n",
       "      <td>Dry</td>\n",
       "      <td>Daylight</td>\n",
       "      <td>NaN</td>\n",
       "      <td>4323031.0</td>\n",
       "      <td>NaN</td>\n",
       "      <td>32</td>\n",
       "      <td>One parked--one moving</td>\n",
       "      <td>0</td>\n",
       "      <td>0</td>\n",
       "      <td>N</td>\n",
       "    </tr>\n",
       "    <tr>\n",
       "      <th>3</th>\n",
       "      <td>1</td>\n",
       "      <td>-122.334803</td>\n",
       "      <td>47.604803</td>\n",
       "      <td>4</td>\n",
       "      <td>1144</td>\n",
       "      <td>1144</td>\n",
       "      <td>3503937</td>\n",
       "      <td>Matched</td>\n",
       "      <td>Block</td>\n",
       "      <td>NaN</td>\n",
       "      <td>2ND AVE BETWEEN MARION ST AND MADISON ST</td>\n",
       "      <td></td>\n",
       "      <td>NaN</td>\n",
       "      <td>1</td>\n",
       "      <td>Property Damage Only Collision</td>\n",
       "      <td>Other</td>\n",
       "      <td>3</td>\n",
       "      <td>0</td>\n",
       "      <td>0</td>\n",
       "      <td>3</td>\n",
       "      <td>2013/03/29 00:00:00+00</td>\n",
       "      <td>3/29/2013 9:26:00 AM</td>\n",
       "      <td>Mid-Block (not related to intersection)</td>\n",
       "      <td>11</td>\n",
       "      <td>MOTOR VEHICLE STRUCK MOTOR VEHICLE, FRONT END ...</td>\n",
       "      <td>NaN</td>\n",
       "      <td>N</td>\n",
       "      <td>Clear</td>\n",
       "      <td>Dry</td>\n",
       "      <td>Daylight</td>\n",
       "      <td>NaN</td>\n",
       "      <td>NaN</td>\n",
       "      <td>NaN</td>\n",
       "      <td>23</td>\n",
       "      <td>From same direction - all others</td>\n",
       "      <td>0</td>\n",
       "      <td>0</td>\n",
       "      <td>N</td>\n",
       "    </tr>\n",
       "    <tr>\n",
       "      <th>4</th>\n",
       "      <td>2</td>\n",
       "      <td>-122.306426</td>\n",
       "      <td>47.545739</td>\n",
       "      <td>5</td>\n",
       "      <td>17700</td>\n",
       "      <td>17700</td>\n",
       "      <td>1807429</td>\n",
       "      <td>Matched</td>\n",
       "      <td>Intersection</td>\n",
       "      <td>34387.0</td>\n",
       "      <td>SWIFT AVE S AND SWIFT AV OFF RP</td>\n",
       "      <td>NaN</td>\n",
       "      <td>NaN</td>\n",
       "      <td>2</td>\n",
       "      <td>Injury Collision</td>\n",
       "      <td>Angles</td>\n",
       "      <td>2</td>\n",
       "      <td>0</td>\n",
       "      <td>0</td>\n",
       "      <td>2</td>\n",
       "      <td>2004/01/28 00:00:00+00</td>\n",
       "      <td>1/28/2004 8:04:00 AM</td>\n",
       "      <td>At Intersection (intersection related)</td>\n",
       "      <td>11</td>\n",
       "      <td>MOTOR VEHICLE STRUCK MOTOR VEHICLE, FRONT END ...</td>\n",
       "      <td>NaN</td>\n",
       "      <td>0</td>\n",
       "      <td>Raining</td>\n",
       "      <td>Wet</td>\n",
       "      <td>Daylight</td>\n",
       "      <td>NaN</td>\n",
       "      <td>4028032.0</td>\n",
       "      <td>NaN</td>\n",
       "      <td>10</td>\n",
       "      <td>Entering at angle</td>\n",
       "      <td>0</td>\n",
       "      <td>0</td>\n",
       "      <td>N</td>\n",
       "    </tr>\n",
       "  </tbody>\n",
       "</table>\n",
       "</div>"
      ],
      "text/plain": [
       "   SEVERITYCODE           X          Y  OBJECTID  INCKEY  COLDETKEY REPORTNO  \\\n",
       "0             2 -122.323148  47.703140         1    1307       1307  3502005   \n",
       "1             1 -122.347294  47.647172         2   52200      52200  2607959   \n",
       "2             1 -122.334540  47.607871         3   26700      26700  1482393   \n",
       "3             1 -122.334803  47.604803         4    1144       1144  3503937   \n",
       "4             2 -122.306426  47.545739         5   17700      17700  1807429   \n",
       "\n",
       "    STATUS      ADDRTYPE   INTKEY  \\\n",
       "0  Matched  Intersection  37475.0   \n",
       "1  Matched         Block      NaN   \n",
       "2  Matched         Block      NaN   \n",
       "3  Matched         Block      NaN   \n",
       "4  Matched  Intersection  34387.0   \n",
       "\n",
       "                                      LOCATION EXCEPTRSNCODE EXCEPTRSNDESC  \\\n",
       "0                   5TH AVE NE AND NE 103RD ST                         NaN   \n",
       "1   AURORA BR BETWEEN RAYE ST AND BRIDGE WAY N           NaN           NaN   \n",
       "2  4TH AVE BETWEEN SENECA ST AND UNIVERSITY ST           NaN           NaN   \n",
       "3     2ND AVE BETWEEN MARION ST AND MADISON ST                         NaN   \n",
       "4              SWIFT AVE S AND SWIFT AV OFF RP           NaN           NaN   \n",
       "\n",
       "   SEVERITYCODE.1                    SEVERITYDESC COLLISIONTYPE  PERSONCOUNT  \\\n",
       "0               2                Injury Collision        Angles            2   \n",
       "1               1  Property Damage Only Collision     Sideswipe            2   \n",
       "2               1  Property Damage Only Collision    Parked Car            4   \n",
       "3               1  Property Damage Only Collision         Other            3   \n",
       "4               2                Injury Collision        Angles            2   \n",
       "\n",
       "   PEDCOUNT  PEDCYLCOUNT  VEHCOUNT                 INCDATE  \\\n",
       "0         0            0         2  2013/03/27 00:00:00+00   \n",
       "1         0            0         2  2006/12/20 00:00:00+00   \n",
       "2         0            0         3  2004/11/18 00:00:00+00   \n",
       "3         0            0         3  2013/03/29 00:00:00+00   \n",
       "4         0            0         2  2004/01/28 00:00:00+00   \n",
       "\n",
       "                  INCDTTM                             JUNCTIONTYPE  \\\n",
       "0    3/27/2013 2:54:00 PM   At Intersection (intersection related)   \n",
       "1   12/20/2006 6:55:00 PM  Mid-Block (not related to intersection)   \n",
       "2  11/18/2004 10:20:00 AM  Mid-Block (not related to intersection)   \n",
       "3    3/29/2013 9:26:00 AM  Mid-Block (not related to intersection)   \n",
       "4    1/28/2004 8:04:00 AM   At Intersection (intersection related)   \n",
       "\n",
       "   SDOT_COLCODE                                       SDOT_COLDESC  \\\n",
       "0            11  MOTOR VEHICLE STRUCK MOTOR VEHICLE, FRONT END ...   \n",
       "1            16  MOTOR VEHICLE STRUCK MOTOR VEHICLE, LEFT SIDE ...   \n",
       "2            14       MOTOR VEHICLE STRUCK MOTOR VEHICLE, REAR END   \n",
       "3            11  MOTOR VEHICLE STRUCK MOTOR VEHICLE, FRONT END ...   \n",
       "4            11  MOTOR VEHICLE STRUCK MOTOR VEHICLE, FRONT END ...   \n",
       "\n",
       "  INATTENTIONIND UNDERINFL   WEATHER ROADCOND                LIGHTCOND  \\\n",
       "0            NaN         N  Overcast      Wet                 Daylight   \n",
       "1            NaN         0   Raining      Wet  Dark - Street Lights On   \n",
       "2            NaN         0  Overcast      Dry                 Daylight   \n",
       "3            NaN         N     Clear      Dry                 Daylight   \n",
       "4            NaN         0   Raining      Wet                 Daylight   \n",
       "\n",
       "  PEDROWNOTGRNT  SDOTCOLNUM SPEEDING ST_COLCODE  \\\n",
       "0           NaN         NaN      NaN         10   \n",
       "1           NaN   6354039.0      NaN         11   \n",
       "2           NaN   4323031.0      NaN         32   \n",
       "3           NaN         NaN      NaN         23   \n",
       "4           NaN   4028032.0      NaN         10   \n",
       "\n",
       "                                          ST_COLDESC  SEGLANEKEY  \\\n",
       "0                                  Entering at angle           0   \n",
       "1  From same direction - both going straight - bo...           0   \n",
       "2                             One parked--one moving           0   \n",
       "3                   From same direction - all others           0   \n",
       "4                                  Entering at angle           0   \n",
       "\n",
       "   CROSSWALKKEY HITPARKEDCAR  \n",
       "0             0            N  \n",
       "1             0            N  \n",
       "2             0            N  \n",
       "3             0            N  \n",
       "4             0            N  "
      ]
     },
     "execution_count": 210,
     "metadata": {},
     "output_type": "execute_result"
    }
   ],
   "source": [
    "# a quick look\n",
    "pd.set_option('display.max_columns', None)\n",
    "df.head()"
   ]
  },
  {
   "cell_type": "markdown",
   "metadata": {},
   "source": [
    "**III. features/columns**"
   ]
  },
  {
   "cell_type": "code",
   "execution_count": 211,
   "metadata": {},
   "outputs": [
    {
     "data": {
      "text/plain": [
       "Index(['SEVERITYCODE', 'X', 'Y', 'OBJECTID', 'INCKEY', 'COLDETKEY', 'REPORTNO',\n",
       "       'STATUS', 'ADDRTYPE', 'INTKEY', 'LOCATION', 'EXCEPTRSNCODE',\n",
       "       'EXCEPTRSNDESC', 'SEVERITYCODE.1', 'SEVERITYDESC', 'COLLISIONTYPE',\n",
       "       'PERSONCOUNT', 'PEDCOUNT', 'PEDCYLCOUNT', 'VEHCOUNT', 'INCDATE',\n",
       "       'INCDTTM', 'JUNCTIONTYPE', 'SDOT_COLCODE', 'SDOT_COLDESC',\n",
       "       'INATTENTIONIND', 'UNDERINFL', 'WEATHER', 'ROADCOND', 'LIGHTCOND',\n",
       "       'PEDROWNOTGRNT', 'SDOTCOLNUM', 'SPEEDING', 'ST_COLCODE', 'ST_COLDESC',\n",
       "       'SEGLANEKEY', 'CROSSWALKKEY', 'HITPARKEDCAR'],\n",
       "      dtype='object')"
      ]
     },
     "execution_count": 211,
     "metadata": {},
     "output_type": "execute_result"
    }
   ],
   "source": [
    "# features\n",
    "df.columns"
   ]
  },
  {
   "cell_type": "markdown",
   "metadata": {},
   "source": [
    "**IV. check duplicate value**"
   ]
  },
  {
   "cell_type": "code",
   "execution_count": 212,
   "metadata": {},
   "outputs": [
    {
     "data": {
      "text/plain": [
       "False    194673\n",
       "dtype: int64"
      ]
     },
     "execution_count": 212,
     "metadata": {},
     "output_type": "execute_result"
    }
   ],
   "source": [
    "# check to make sure we don't have any duplicated values\n",
    "df.duplicated().value_counts()"
   ]
  },
  {
   "cell_type": "markdown",
   "metadata": {},
   "source": [
    "**V. Target variable(depended feature) analysis**"
   ]
  },
  {
   "cell_type": "code",
   "execution_count": 213,
   "metadata": {},
   "outputs": [
    {
     "data": {
      "text/html": [
       "<div>\n",
       "<style scoped>\n",
       "    .dataframe tbody tr th:only-of-type {\n",
       "        vertical-align: middle;\n",
       "    }\n",
       "\n",
       "    .dataframe tbody tr th {\n",
       "        vertical-align: top;\n",
       "    }\n",
       "\n",
       "    .dataframe thead th {\n",
       "        text-align: right;\n",
       "    }\n",
       "</style>\n",
       "<table border=\"1\" class=\"dataframe\">\n",
       "  <thead>\n",
       "    <tr style=\"text-align: right;\">\n",
       "      <th></th>\n",
       "      <th>SEVERITYCODE</th>\n",
       "    </tr>\n",
       "  </thead>\n",
       "  <tbody>\n",
       "    <tr>\n",
       "      <th>1</th>\n",
       "      <td>0.701099</td>\n",
       "    </tr>\n",
       "    <tr>\n",
       "      <th>2</th>\n",
       "      <td>0.298901</td>\n",
       "    </tr>\n",
       "  </tbody>\n",
       "</table>\n",
       "</div>"
      ],
      "text/plain": [
       "   SEVERITYCODE\n",
       "1      0.701099\n",
       "2      0.298901"
      ]
     },
     "execution_count": 213,
     "metadata": {},
     "output_type": "execute_result"
    },
    {
     "data": {
      "image/png": "[encoded data removed]",
      "text/plain": [
       "<Figure size 432x288 with 1 Axes>"
      ]
     },
     "metadata": {
      "needs_background": "light"
     },
     "output_type": "display_data"
    }
   ],
   "source": [
    "# graph of target variable\n",
    "sn.countplot(x=\"SEVERITYCODE\", data=df, palette = \"Set2\")\n",
    "\n",
    "# table of target variable\n",
    "df['SEVERITYCODE'].value_counts(normalize=True).to_frame()"
   ]
  },
  {
   "cell_type": "markdown",
   "metadata": {},
   "source": [
    "According to meta-data <br/>\n",
    "1 = property damage <br/>\n",
    "2 = injury <br/>\n",
    "It seems like property damage happens more frequenly than injury. That's a good thing."
   ]
  },
  {
   "cell_type": "markdown",
   "metadata": {},
   "source": [
    "**VI. missing values and data types**"
   ]
  },
  {
   "cell_type": "code",
   "execution_count": 214,
   "metadata": {},
   "outputs": [
    {
     "name": "stdout",
     "output_type": "stream",
     "text": [
      "<class 'pandas.core.frame.DataFrame'>\n",
      "RangeIndex: 194673 entries, 0 to 194672\n",
      "Data columns (total 38 columns):\n",
      " #   Column          Non-Null Count   Dtype  \n",
      "---  ------          --------------   -----  \n",
      " 0   SEVERITYCODE    194673 non-null  int64  \n",
      " 1   X               189339 non-null  float64\n",
      " 2   Y               189339 non-null  float64\n",
      " 3   OBJECTID        194673 non-null  int64  \n",
      " 4   INCKEY          194673 non-null  int64  \n",
      " 5   COLDETKEY       194673 non-null  int64  \n",
      " 6   REPORTNO        194673 non-null  object \n",
      " 7   STATUS          194673 non-null  object \n",
      " 8   ADDRTYPE        192747 non-null  object \n",
      " 9   INTKEY          65070 non-null   float64\n",
      " 10  LOCATION        191996 non-null  object \n",
      " 11  EXCEPTRSNCODE   84811 non-null   object \n",
      " 12  EXCEPTRSNDESC   5638 non-null    object \n",
      " 13  SEVERITYCODE.1  194673 non-null  int64  \n",
      " 14  SEVERITYDESC    194673 non-null  object \n",
      " 15  COLLISIONTYPE   189769 non-null  object \n",
      " 16  PERSONCOUNT     194673 non-null  int64  \n",
      " 17  PEDCOUNT        194673 non-null  int64  \n",
      " 18  PEDCYLCOUNT     194673 non-null  int64  \n",
      " 19  VEHCOUNT        194673 non-null  int64  \n",
      " 20  INCDATE         194673 non-null  object \n",
      " 21  INCDTTM         194673 non-null  object \n",
      " 22  JUNCTIONTYPE    188344 non-null  object \n",
      " 23  SDOT_COLCODE    194673 non-null  int64  \n",
      " 24  SDOT_COLDESC    194673 non-null  object \n",
      " 25  INATTENTIONIND  29805 non-null   object \n",
      " 26  UNDERINFL       189789 non-null  object \n",
      " 27  WEATHER         189592 non-null  object \n",
      " 28  ROADCOND        189661 non-null  object \n",
      " 29  LIGHTCOND       189503 non-null  object \n",
      " 30  PEDROWNOTGRNT   4667 non-null    object \n",
      " 31  SDOTCOLNUM      114936 non-null  float64\n",
      " 32  SPEEDING        9333 non-null    object \n",
      " 33  ST_COLCODE      194655 non-null  object \n",
      " 34  ST_COLDESC      189769 non-null  object \n",
      " 35  SEGLANEKEY      194673 non-null  int64  \n",
      " 36  CROSSWALKKEY    194673 non-null  int64  \n",
      " 37  HITPARKEDCAR    194673 non-null  object \n",
      "dtypes: float64(4), int64(12), object(22)\n",
      "memory usage: 56.4+ MB\n"
     ]
    }
   ],
   "source": [
    "# missing values and datatype\n",
    "df.info()"
   ]
  },
  {
   "cell_type": "markdown",
   "metadata": {},
   "source": [
    "After examining meta-data, it seems all the data are in the right data type. So there is no need for data casting, though there is a good amount of missing datas that we need to address so lets move on to data cleaning. Before that, we need to have a visual of the missing datas."
   ]
  },
  {
   "cell_type": "code",
   "execution_count": 215,
   "metadata": {},
   "outputs": [
    {
     "data": {
      "text/plain": [
       "<matplotlib.axes._subplots.AxesSubplot at 0x23e004c5a60>"
      ]
     },
     "execution_count": 215,
     "metadata": {},
     "output_type": "execute_result"
    },
    {
     "data": {
      "image/png": "[encoded data removed]",
      "text/plain": [
       "<Figure size 432x288 with 1 Axes>"
      ]
     },
     "metadata": {
      "needs_background": "light"
     },
     "output_type": "display_data"
    }
   ],
   "source": [
    "# graph of missing values\n",
    "missing = df.isnull().sum()\n",
    "missing = missing[missing > 0]\n",
    "missing.sort_values(inplace=True)\n",
    "missing.plot.bar()"
   ]
  },
  {
   "cell_type": "markdown",
   "metadata": {},
   "source": [
    "I will delete features with more than 75000 missing values."
   ]
  },
  {
   "cell_type": "markdown",
   "metadata": {},
   "source": [
    "# 4. Data preparation:\n",
    "    I. data cleaning(drop columns and filling missing values) \n",
    "    II. data engineering \n",
    "    III. handle outliers \n",
    "    IV. data encoding"
   ]
  },
  {
   "cell_type": "markdown",
   "metadata": {},
   "source": [
    "**I. Data cleaning**<br/>\n",
    "drop unessessary features"
   ]
  },
  {
   "cell_type": "code",
   "execution_count": 216,
   "metadata": {},
   "outputs": [],
   "source": [
    "# I dropped ‘SEVERITYDESC ‘, 'ST_COLDESC', and 'SDOT_COLDESC' because  they are just descriptions of ‘SEVERITYCODE‘, \n",
    "# 'ST_COLDCODE', and 'SDOT_COLDCODE' respectively.\n",
    "\n",
    "# I dropped 'INTKEY' because it has over 7000 unqiue values.\n",
    "\n",
    "# since pd data frame comes with unique ID we do not need unique keys like 'OBJECTID', 'COLDETKEY', and 'INCKEY' \n",
    "# that comes with the data\n",
    "\n",
    "# I also dropped ' some redundant values such as SEVERITYCODE.1' ,  'INCDATE', ‘LOCATION’\n",
    "\n",
    "# Meta-data has no documentation on 'REPORTNO' so I am going to drop it\n",
    "\n",
    "# Over 90% of 'INTKEY', 'CROSSWALKKEY', and 'SEGLANEKEY ' takes on mono value of 0 or less than one, so I will drop both\n",
    "\n",
    "df.drop([\n",
    "    'OBJECTID', 'INCKEY', 'COLDETKEY', 'SEVERITYCODE.1', 'INCDATE', 'LOCATION', 'REPORTNO',\n",
    "    'ST_COLDESC', 'SDOTCOLNUM', 'EXCEPTRSNCODE', 'INTKEY', 'INATTENTIONIND', 'CROSSWALKKEY',\n",
    "    'SPEEDING', 'EXCEPTRSNDESC', 'PEDROWNOTGRNT', 'SEVERITYDESC', 'SEGLANEKEY', 'SDOT_COLDESC'], axis=1, inplace=True)"
   ]
  },
  {
   "cell_type": "markdown",
   "metadata": {},
   "source": [
    "**II. Data Engineering(from left to right)**<br/>\n",
    "fill in missing values with mean or most frequent value, combine features"
   ]
  },
  {
   "cell_type": "markdown",
   "metadata": {},
   "source": [
    "<h5> ADDRTYPE"
   ]
  },
  {
   "cell_type": "code",
   "execution_count": 217,
   "metadata": {},
   "outputs": [
    {
     "data": {
      "text/html": [
       "<div>\n",
       "<style scoped>\n",
       "    .dataframe tbody tr th:only-of-type {\n",
       "        vertical-align: middle;\n",
       "    }\n",
       "\n",
       "    .dataframe tbody tr th {\n",
       "        vertical-align: top;\n",
       "    }\n",
       "\n",
       "    .dataframe thead th {\n",
       "        text-align: right;\n",
       "    }\n",
       "</style>\n",
       "<table border=\"1\" class=\"dataframe\">\n",
       "  <thead>\n",
       "    <tr style=\"text-align: right;\">\n",
       "      <th></th>\n",
       "      <th></th>\n",
       "      <th>SEVERITYCODE</th>\n",
       "    </tr>\n",
       "    <tr>\n",
       "      <th>ADDRTYPE</th>\n",
       "      <th>SEVERITYCODE</th>\n",
       "      <th></th>\n",
       "    </tr>\n",
       "  </thead>\n",
       "  <tbody>\n",
       "    <tr>\n",
       "      <th rowspan=\"2\" valign=\"top\">Alley</th>\n",
       "      <th>1</th>\n",
       "      <td>0.890812</td>\n",
       "    </tr>\n",
       "    <tr>\n",
       "      <th>2</th>\n",
       "      <td>0.109188</td>\n",
       "    </tr>\n",
       "    <tr>\n",
       "      <th rowspan=\"2\" valign=\"top\">Block</th>\n",
       "      <th>1</th>\n",
       "      <td>0.764947</td>\n",
       "    </tr>\n",
       "    <tr>\n",
       "      <th>2</th>\n",
       "      <td>0.235053</td>\n",
       "    </tr>\n",
       "    <tr>\n",
       "      <th rowspan=\"2\" valign=\"top\">Intersection</th>\n",
       "      <th>1</th>\n",
       "      <td>0.572476</td>\n",
       "    </tr>\n",
       "    <tr>\n",
       "      <th>2</th>\n",
       "      <td>0.427524</td>\n",
       "    </tr>\n",
       "  </tbody>\n",
       "</table>\n",
       "</div>"
      ],
      "text/plain": [
       "                           SEVERITYCODE\n",
       "ADDRTYPE     SEVERITYCODE              \n",
       "Alley        1                 0.890812\n",
       "             2                 0.109188\n",
       "Block        1                 0.764947\n",
       "             2                 0.235053\n",
       "Intersection 1                 0.572476\n",
       "             2                 0.427524"
      ]
     },
     "execution_count": 217,
     "metadata": {},
     "output_type": "execute_result"
    },
    {
     "data": {
      "image/png": "[encoded data removed]",
      "text/plain": [
       "<Figure size 1296x360 with 2 Axes>"
      ]
     },
     "metadata": {
      "needs_background": "light"
     },
     "output_type": "display_data"
    }
   ],
   "source": [
    "# Since \"Block\" is the most frequent option in ADDRTYPE, we will fill all the missing value with it.\n",
    "df['ADDRTYPE'] = df['ADDRTYPE'].fillna('Block')\n",
    "\n",
    "# display graph in relation to SEVERITYCODE\n",
    "fig, ax = plt.subplots(1, 2)\n",
    "fig.set_figheight(5)\n",
    "fig.set_figwidth(18)\n",
    "\n",
    "sn.countplot(data=df, y='ADDRTYPE', hue='SEVERITYCODE', ax=ax[0])\n",
    "sn.pointplot(x=\"SEVERITYCODE\", y=\"ADDRTYPE\", linestyles=[\"--\"], data=df, ax=ax[1])\n",
    "\n",
    "\n",
    "# display table in relation to SEVERITYCODE\n",
    "df.groupby(['ADDRTYPE'])['SEVERITYCODE'].value_counts(normalize=True).to_frame()"
   ]
  },
  {
   "cell_type": "markdown",
   "metadata": {},
   "source": [
    "It seems like there are some relationship between ADDRTYPE and SEVERITYCODE. We will note that and add this feature later in feature selection section."
   ]
  },
  {
   "cell_type": "markdown",
   "metadata": {},
   "source": [
    "<h5> UNDERINFL"
   ]
  },
  {
   "cell_type": "code",
   "execution_count": 218,
   "metadata": {},
   "outputs": [
    {
     "data": {
      "text/html": [
       "<div>\n",
       "<style scoped>\n",
       "    .dataframe tbody tr th:only-of-type {\n",
       "        vertical-align: middle;\n",
       "    }\n",
       "\n",
       "    .dataframe tbody tr th {\n",
       "        vertical-align: top;\n",
       "    }\n",
       "\n",
       "    .dataframe thead th {\n",
       "        text-align: right;\n",
       "    }\n",
       "</style>\n",
       "<table border=\"1\" class=\"dataframe\">\n",
       "  <thead>\n",
       "    <tr style=\"text-align: right;\">\n",
       "      <th></th>\n",
       "      <th></th>\n",
       "      <th>SEVERITYCODE</th>\n",
       "    </tr>\n",
       "    <tr>\n",
       "      <th>UNDERINFL</th>\n",
       "      <th>SEVERITYCODE</th>\n",
       "      <th></th>\n",
       "    </tr>\n",
       "  </thead>\n",
       "  <tbody>\n",
       "    <tr>\n",
       "      <th rowspan=\"2\" valign=\"top\">N</th>\n",
       "      <th>1</th>\n",
       "      <td>0.705603</td>\n",
       "    </tr>\n",
       "    <tr>\n",
       "      <th>2</th>\n",
       "      <td>0.294397</td>\n",
       "    </tr>\n",
       "    <tr>\n",
       "      <th rowspan=\"2\" valign=\"top\">Y</th>\n",
       "      <th>1</th>\n",
       "      <td>0.609473</td>\n",
       "    </tr>\n",
       "    <tr>\n",
       "      <th>2</th>\n",
       "      <td>0.390527</td>\n",
       "    </tr>\n",
       "  </tbody>\n",
       "</table>\n",
       "</div>"
      ],
      "text/plain": [
       "                        SEVERITYCODE\n",
       "UNDERINFL SEVERITYCODE              \n",
       "N         1                 0.705603\n",
       "          2                 0.294397\n",
       "Y         1                 0.609473\n",
       "          2                 0.390527"
      ]
     },
     "execution_count": 218,
     "metadata": {},
     "output_type": "execute_result"
    },
    {
     "data": {
      "image/png": "[encoded data removed]",
      "text/plain": [
       "<Figure size 1296x360 with 2 Axes>"
      ]
     },
     "metadata": {
      "needs_background": "light"
     },
     "output_type": "display_data"
    }
   ],
   "source": [
    "# fillna with the most frequent value 'N'\n",
    "df['UNDERINFL'] = df['UNDERINFL'].fillna('N')\n",
    "\n",
    "# Since N and 0(Y and 1) essentially means the same thing so we will combine N with 0 and Y with 1\n",
    "df['UNDERINFL'] = df['UNDERINFL'].replace({'0': 'N', '1': 'Y'})\n",
    "\n",
    "# display graph in relation to SEVERITYCODE\n",
    "fig, ax = plt.subplots(1, 2)\n",
    "fig.set_figheight(5)\n",
    "fig.set_figwidth(18)\n",
    "\n",
    "sn.countplot(data=df, y='UNDERINFL', hue='SEVERITYCODE', ax=ax[0])\n",
    "sn.pointplot(x=\"SEVERITYCODE\", y=\"UNDERINFL\", linestyles=[\"--\"], data=df, ax=ax[1])\n",
    "\n",
    "\n",
    "# display table in relation to SEVERITYCODE\n",
    "df.groupby(['UNDERINFL'])['SEVERITYCODE'].value_counts(normalize=True).to_frame()"
   ]
  },
  {
   "cell_type": "markdown",
   "metadata": {},
   "source": [
    "It seems like the ratio for injuries is higher than property damage when drivers are under influence."
   ]
  },
  {
   "cell_type": "markdown",
   "metadata": {},
   "source": [
    "<h5> COLLISIONTYPE"
   ]
  },
  {
   "cell_type": "code",
   "execution_count": 219,
   "metadata": {},
   "outputs": [
    {
     "data": {
      "text/html": [
       "<div>\n",
       "<style scoped>\n",
       "    .dataframe tbody tr th:only-of-type {\n",
       "        vertical-align: middle;\n",
       "    }\n",
       "\n",
       "    .dataframe tbody tr th {\n",
       "        vertical-align: top;\n",
       "    }\n",
       "\n",
       "    .dataframe thead th {\n",
       "        text-align: right;\n",
       "    }\n",
       "</style>\n",
       "<table border=\"1\" class=\"dataframe\">\n",
       "  <thead>\n",
       "    <tr style=\"text-align: right;\">\n",
       "      <th></th>\n",
       "      <th></th>\n",
       "      <th>SEVERITYCODE</th>\n",
       "    </tr>\n",
       "    <tr>\n",
       "      <th>COLLISIONTYPE</th>\n",
       "      <th>SEVERITYCODE</th>\n",
       "      <th></th>\n",
       "    </tr>\n",
       "  </thead>\n",
       "  <tbody>\n",
       "    <tr>\n",
       "      <th rowspan=\"2\" valign=\"top\">Angles</th>\n",
       "      <th>1</th>\n",
       "      <td>0.607083</td>\n",
       "    </tr>\n",
       "    <tr>\n",
       "      <th>2</th>\n",
       "      <td>0.392917</td>\n",
       "    </tr>\n",
       "    <tr>\n",
       "      <th rowspan=\"2\" valign=\"top\">Cycles</th>\n",
       "      <th>2</th>\n",
       "      <td>0.876085</td>\n",
       "    </tr>\n",
       "    <tr>\n",
       "      <th>1</th>\n",
       "      <td>0.123915</td>\n",
       "    </tr>\n",
       "    <tr>\n",
       "      <th rowspan=\"2\" valign=\"top\">Head On</th>\n",
       "      <th>1</th>\n",
       "      <td>0.569170</td>\n",
       "    </tr>\n",
       "    <tr>\n",
       "      <th>2</th>\n",
       "      <td>0.430830</td>\n",
       "    </tr>\n",
       "    <tr>\n",
       "      <th rowspan=\"2\" valign=\"top\">Left Turn</th>\n",
       "      <th>1</th>\n",
       "      <td>0.605123</td>\n",
       "    </tr>\n",
       "    <tr>\n",
       "      <th>2</th>\n",
       "      <td>0.394877</td>\n",
       "    </tr>\n",
       "    <tr>\n",
       "      <th rowspan=\"2\" valign=\"top\">Other</th>\n",
       "      <th>1</th>\n",
       "      <td>0.742142</td>\n",
       "    </tr>\n",
       "    <tr>\n",
       "      <th>2</th>\n",
       "      <td>0.257858</td>\n",
       "    </tr>\n",
       "    <tr>\n",
       "      <th rowspan=\"2\" valign=\"top\">Parked Car</th>\n",
       "      <th>1</th>\n",
       "      <td>0.929988</td>\n",
       "    </tr>\n",
       "    <tr>\n",
       "      <th>2</th>\n",
       "      <td>0.070012</td>\n",
       "    </tr>\n",
       "    <tr>\n",
       "      <th rowspan=\"2\" valign=\"top\">Pedestrian</th>\n",
       "      <th>2</th>\n",
       "      <td>0.898305</td>\n",
       "    </tr>\n",
       "    <tr>\n",
       "      <th>1</th>\n",
       "      <td>0.101695</td>\n",
       "    </tr>\n",
       "    <tr>\n",
       "      <th rowspan=\"2\" valign=\"top\">Rear Ended</th>\n",
       "      <th>1</th>\n",
       "      <td>0.569639</td>\n",
       "    </tr>\n",
       "    <tr>\n",
       "      <th>2</th>\n",
       "      <td>0.430361</td>\n",
       "    </tr>\n",
       "    <tr>\n",
       "      <th rowspan=\"2\" valign=\"top\">Right Turn</th>\n",
       "      <th>1</th>\n",
       "      <td>0.793978</td>\n",
       "    </tr>\n",
       "    <tr>\n",
       "      <th>2</th>\n",
       "      <td>0.206022</td>\n",
       "    </tr>\n",
       "    <tr>\n",
       "      <th rowspan=\"2\" valign=\"top\">Sideswipe</th>\n",
       "      <th>1</th>\n",
       "      <td>0.865334</td>\n",
       "    </tr>\n",
       "    <tr>\n",
       "      <th>2</th>\n",
       "      <td>0.134666</td>\n",
       "    </tr>\n",
       "  </tbody>\n",
       "</table>\n",
       "</div>"
      ],
      "text/plain": [
       "                            SEVERITYCODE\n",
       "COLLISIONTYPE SEVERITYCODE              \n",
       "Angles        1                 0.607083\n",
       "              2                 0.392917\n",
       "Cycles        2                 0.876085\n",
       "              1                 0.123915\n",
       "Head On       1                 0.569170\n",
       "              2                 0.430830\n",
       "Left Turn     1                 0.605123\n",
       "              2                 0.394877\n",
       "Other         1                 0.742142\n",
       "              2                 0.257858\n",
       "Parked Car    1                 0.929988\n",
       "              2                 0.070012\n",
       "Pedestrian    2                 0.898305\n",
       "              1                 0.101695\n",
       "Rear Ended    1                 0.569639\n",
       "              2                 0.430361\n",
       "Right Turn    1                 0.793978\n",
       "              2                 0.206022\n",
       "Sideswipe     1                 0.865334\n",
       "              2                 0.134666"
      ]
     },
     "execution_count": 219,
     "metadata": {},
     "output_type": "execute_result"
    },
    {
     "data": {
      "image/png": "[encoded data removed]",
      "text/plain": [
       "<Figure size 1296x360 with 2 Axes>"
      ]
     },
     "metadata": {
      "needs_background": "light"
     },
     "output_type": "display_data"
    }
   ],
   "source": [
    "# fillna with most frequent value\n",
    "df['COLLISIONTYPE'] = df['COLLISIONTYPE'].fillna('Parked Car')\n",
    "\n",
    "# display graph in relation to SEVERITYCODE\n",
    "fig, ax = plt.subplots(1, 2)\n",
    "fig.set_figheight(5)\n",
    "fig.set_figwidth(18)\n",
    "\n",
    "sn.countplot(data=df, y='COLLISIONTYPE', hue='SEVERITYCODE', palette=\"Set2\", ax=ax[0])\n",
    "sn.pointplot(x=\"SEVERITYCODE\", y=\"COLLISIONTYPE\", linestyles=[\"--\"], data=df, ax=ax[1])\n",
    "\n",
    "# display table in relation to SEVERITYCODE\n",
    "df.groupby(['COLLISIONTYPE'])['SEVERITYCODE'].value_counts(normalize=True).to_frame()"
   ]
  },
  {
   "cell_type": "markdown",
   "metadata": {},
   "source": [
    "This feature seems important because each value has very different servierty code ratio"
   ]
  },
  {
   "cell_type": "markdown",
   "metadata": {},
   "source": [
    "<h5> ROADCOND"
   ]
  },
  {
   "cell_type": "code",
   "execution_count": 220,
   "metadata": {},
   "outputs": [
    {
     "data": {
      "text/html": [
       "<div>\n",
       "<style scoped>\n",
       "    .dataframe tbody tr th:only-of-type {\n",
       "        vertical-align: middle;\n",
       "    }\n",
       "\n",
       "    .dataframe tbody tr th {\n",
       "        vertical-align: top;\n",
       "    }\n",
       "\n",
       "    .dataframe thead th {\n",
       "        text-align: right;\n",
       "    }\n",
       "</style>\n",
       "<table border=\"1\" class=\"dataframe\">\n",
       "  <thead>\n",
       "    <tr style=\"text-align: right;\">\n",
       "      <th></th>\n",
       "      <th></th>\n",
       "      <th>SEVERITYCODE</th>\n",
       "    </tr>\n",
       "    <tr>\n",
       "      <th>ROADCOND</th>\n",
       "      <th>SEVERITYCODE</th>\n",
       "      <th></th>\n",
       "    </tr>\n",
       "  </thead>\n",
       "  <tbody>\n",
       "    <tr>\n",
       "      <th rowspan=\"2\" valign=\"top\">Dry</th>\n",
       "      <th>1</th>\n",
       "      <td>0.682494</td>\n",
       "    </tr>\n",
       "    <tr>\n",
       "      <th>2</th>\n",
       "      <td>0.317506</td>\n",
       "    </tr>\n",
       "    <tr>\n",
       "      <th rowspan=\"2\" valign=\"top\">Other</th>\n",
       "      <th>1</th>\n",
       "      <td>0.925949</td>\n",
       "    </tr>\n",
       "    <tr>\n",
       "      <th>2</th>\n",
       "      <td>0.074051</td>\n",
       "    </tr>\n",
       "    <tr>\n",
       "      <th rowspan=\"2\" valign=\"top\">Wet</th>\n",
       "      <th>1</th>\n",
       "      <td>0.668134</td>\n",
       "    </tr>\n",
       "    <tr>\n",
       "      <th>2</th>\n",
       "      <td>0.331866</td>\n",
       "    </tr>\n",
       "  </tbody>\n",
       "</table>\n",
       "</div>"
      ],
      "text/plain": [
       "                       SEVERITYCODE\n",
       "ROADCOND SEVERITYCODE              \n",
       "Dry      1                 0.682494\n",
       "         2                 0.317506\n",
       "Other    1                 0.925949\n",
       "         2                 0.074051\n",
       "Wet      1                 0.668134\n",
       "         2                 0.331866"
      ]
     },
     "execution_count": 220,
     "metadata": {},
     "output_type": "execute_result"
    },
    {
     "data": {
      "image/png": "[encoded data removed]",
      "text/plain": [
       "<Figure size 1296x360 with 2 Axes>"
      ]
     },
     "metadata": {
      "needs_background": "light"
     },
     "output_type": "display_data"
    }
   ],
   "source": [
    "# fillna with the most frequent value\n",
    "df['ROADCOND'] = df['ROADCOND'].fillna('Dry')\n",
    "\n",
    "# Combining minor features to others\n",
    "df['ROADCOND'] = df['ROADCOND'].replace({'Sand/Mud/Dirt': 'Other', 'Snow/Slush': 'Other', 'Standing Water': 'Other', \n",
    "                                         'Ice': 'Other', 'Oil': 'Other', 'Unknown': 'Other'})\n",
    "\n",
    "# display graph in relation to SEVERITYCODE\n",
    "fig, ax = plt.subplots(1, 2)\n",
    "fig.set_figheight(5)\n",
    "fig.set_figwidth(18)\n",
    "\n",
    "sn.countplot(data=df, y='ROADCOND', hue='SEVERITYCODE', ax=ax[0])\n",
    "sn.pointplot(x=\"SEVERITYCODE\", y=\"ROADCOND\", linestyles=[\"--\"], data=df, ax=ax[1])\n",
    "\n",
    "# display table in relation to SEVERITYCODE\n",
    "df.groupby(['ROADCOND'])['SEVERITYCODE'].value_counts(normalize=True).to_frame()"
   ]
  },
  {
   "cell_type": "markdown",
   "metadata": {},
   "source": [
    "contrary to my inital belief, the ratio between Dry(.68-.31) and Wet(.66-.33) road condition are nearly identical. The only difference in this feature is other .9-.0"
   ]
  },
  {
   "cell_type": "markdown",
   "metadata": {},
   "source": [
    "<h5> WEATHER"
   ]
  },
  {
   "cell_type": "code",
   "execution_count": 221,
   "metadata": {},
   "outputs": [
    {
     "data": {
      "text/html": [
       "<div>\n",
       "<style scoped>\n",
       "    .dataframe tbody tr th:only-of-type {\n",
       "        vertical-align: middle;\n",
       "    }\n",
       "\n",
       "    .dataframe tbody tr th {\n",
       "        vertical-align: top;\n",
       "    }\n",
       "\n",
       "    .dataframe thead th {\n",
       "        text-align: right;\n",
       "    }\n",
       "</style>\n",
       "<table border=\"1\" class=\"dataframe\">\n",
       "  <thead>\n",
       "    <tr style=\"text-align: right;\">\n",
       "      <th></th>\n",
       "      <th></th>\n",
       "      <th>SEVERITYCODE</th>\n",
       "    </tr>\n",
       "    <tr>\n",
       "      <th>WEATHER</th>\n",
       "      <th>SEVERITYCODE</th>\n",
       "      <th></th>\n",
       "    </tr>\n",
       "  </thead>\n",
       "  <tbody>\n",
       "    <tr>\n",
       "      <th rowspan=\"2\" valign=\"top\">Clear</th>\n",
       "      <th>1</th>\n",
       "      <td>0.682281</td>\n",
       "    </tr>\n",
       "    <tr>\n",
       "      <th>2</th>\n",
       "      <td>0.317719</td>\n",
       "    </tr>\n",
       "    <tr>\n",
       "      <th rowspan=\"2\" valign=\"top\">Other</th>\n",
       "      <th>1</th>\n",
       "      <td>0.923685</td>\n",
       "    </tr>\n",
       "    <tr>\n",
       "      <th>2</th>\n",
       "      <td>0.076315</td>\n",
       "    </tr>\n",
       "    <tr>\n",
       "      <th rowspan=\"2\" valign=\"top\">Overcast</th>\n",
       "      <th>1</th>\n",
       "      <td>0.684456</td>\n",
       "    </tr>\n",
       "    <tr>\n",
       "      <th>2</th>\n",
       "      <td>0.315544</td>\n",
       "    </tr>\n",
       "    <tr>\n",
       "      <th rowspan=\"2\" valign=\"top\">Raining</th>\n",
       "      <th>1</th>\n",
       "      <td>0.662815</td>\n",
       "    </tr>\n",
       "    <tr>\n",
       "      <th>2</th>\n",
       "      <td>0.337185</td>\n",
       "    </tr>\n",
       "  </tbody>\n",
       "</table>\n",
       "</div>"
      ],
      "text/plain": [
       "                       SEVERITYCODE\n",
       "WEATHER  SEVERITYCODE              \n",
       "Clear    1                 0.682281\n",
       "         2                 0.317719\n",
       "Other    1                 0.923685\n",
       "         2                 0.076315\n",
       "Overcast 1                 0.684456\n",
       "         2                 0.315544\n",
       "Raining  1                 0.662815\n",
       "         2                 0.337185"
      ]
     },
     "execution_count": 221,
     "metadata": {},
     "output_type": "execute_result"
    },
    {
     "data": {
      "image/png": "[encoded data removed]",
      "text/plain": [
       "<Figure size 1296x360 with 2 Axes>"
      ]
     },
     "metadata": {
      "needs_background": "light"
     },
     "output_type": "display_data"
    }
   ],
   "source": [
    "# fillna with the most frequent value\n",
    "df['WEATHER'] = df['WEATHER'].fillna('Clear')\n",
    "\n",
    "# Combining minor features to others\n",
    "df['WEATHER'] = df['WEATHER'].replace({'Blowing Sand/Dirt': 'Other', 'Snowing': 'Other', 'Partly Cloudy': 'Other', \n",
    "                                        'Severe Crosswind': 'Other', 'Sleet/Hail/Freezing Rain': 'Other', \n",
    "                                        'Fog/Smog/Smoke': 'Other', 'Unknown': 'Other'})\n",
    "\n",
    "# display graph in relation to SEVERITYCODE\n",
    "fig, ax = plt.subplots(1, 2)\n",
    "fig.set_figheight(5)\n",
    "fig.set_figwidth(18)\n",
    "\n",
    "sn.countplot(data=df, y='WEATHER', hue='SEVERITYCODE', ax=ax[0])\n",
    "sn.pointplot(x=\"SEVERITYCODE\", y=\"WEATHER\", linestyles=[\"--\"], data=df, ax=ax[1])\n",
    "\n",
    "\n",
    "# display table in relation to SEVERITYCODE\n",
    "df.groupby(['WEATHER'])['SEVERITYCODE'].value_counts(normalize=True).to_frame()"
   ]
  },
  {
   "cell_type": "markdown",
   "metadata": {},
   "source": [
    "Everything besides other(.9-.0) are .6-.3"
   ]
  },
  {
   "cell_type": "markdown",
   "metadata": {},
   "source": [
    "<h5> LIGHTCOND"
   ]
  },
  {
   "cell_type": "code",
   "execution_count": 222,
   "metadata": {},
   "outputs": [
    {
     "data": {
      "text/html": [
       "<div>\n",
       "<style scoped>\n",
       "    .dataframe tbody tr th:only-of-type {\n",
       "        vertical-align: middle;\n",
       "    }\n",
       "\n",
       "    .dataframe tbody tr th {\n",
       "        vertical-align: top;\n",
       "    }\n",
       "\n",
       "    .dataframe thead th {\n",
       "        text-align: right;\n",
       "    }\n",
       "</style>\n",
       "<table border=\"1\" class=\"dataframe\">\n",
       "  <thead>\n",
       "    <tr style=\"text-align: right;\">\n",
       "      <th></th>\n",
       "      <th></th>\n",
       "      <th>SEVERITYCODE</th>\n",
       "    </tr>\n",
       "    <tr>\n",
       "      <th>LIGHTCOND</th>\n",
       "      <th>SEVERITYCODE</th>\n",
       "      <th></th>\n",
       "    </tr>\n",
       "  </thead>\n",
       "  <tbody>\n",
       "    <tr>\n",
       "      <th rowspan=\"2\" valign=\"top\">Dark</th>\n",
       "      <th>1</th>\n",
       "      <td>0.762427</td>\n",
       "    </tr>\n",
       "    <tr>\n",
       "      <th>2</th>\n",
       "      <td>0.237573</td>\n",
       "    </tr>\n",
       "    <tr>\n",
       "      <th rowspan=\"2\" valign=\"top\">Dark - Street Lights On</th>\n",
       "      <th>1</th>\n",
       "      <td>0.701575</td>\n",
       "    </tr>\n",
       "    <tr>\n",
       "      <th>2</th>\n",
       "      <td>0.298425</td>\n",
       "    </tr>\n",
       "    <tr>\n",
       "      <th rowspan=\"2\" valign=\"top\">Dawn</th>\n",
       "      <th>1</th>\n",
       "      <td>0.670663</td>\n",
       "    </tr>\n",
       "    <tr>\n",
       "      <th>2</th>\n",
       "      <td>0.329337</td>\n",
       "    </tr>\n",
       "    <tr>\n",
       "      <th rowspan=\"2\" valign=\"top\">Daylight</th>\n",
       "      <th>1</th>\n",
       "      <td>0.673275</td>\n",
       "    </tr>\n",
       "    <tr>\n",
       "      <th>2</th>\n",
       "      <td>0.326725</td>\n",
       "    </tr>\n",
       "    <tr>\n",
       "      <th rowspan=\"2\" valign=\"top\">Dusk</th>\n",
       "      <th>1</th>\n",
       "      <td>0.670620</td>\n",
       "    </tr>\n",
       "    <tr>\n",
       "      <th>2</th>\n",
       "      <td>0.329380</td>\n",
       "    </tr>\n",
       "    <tr>\n",
       "      <th rowspan=\"2\" valign=\"top\">Other</th>\n",
       "      <th>1</th>\n",
       "      <td>0.952072</td>\n",
       "    </tr>\n",
       "    <tr>\n",
       "      <th>2</th>\n",
       "      <td>0.047928</td>\n",
       "    </tr>\n",
       "  </tbody>\n",
       "</table>\n",
       "</div>"
      ],
      "text/plain": [
       "                                      SEVERITYCODE\n",
       "LIGHTCOND               SEVERITYCODE              \n",
       "Dark                    1                 0.762427\n",
       "                        2                 0.237573\n",
       "Dark - Street Lights On 1                 0.701575\n",
       "                        2                 0.298425\n",
       "Dawn                    1                 0.670663\n",
       "                        2                 0.329337\n",
       "Daylight                1                 0.673275\n",
       "                        2                 0.326725\n",
       "Dusk                    1                 0.670620\n",
       "                        2                 0.329380\n",
       "Other                   1                 0.952072\n",
       "                        2                 0.047928"
      ]
     },
     "execution_count": 222,
     "metadata": {},
     "output_type": "execute_result"
    },
    {
     "data": {
      "image/png": "[encoded data removed]",
      "text/plain": [
       "<Figure size 360x576 with 2 Axes>"
      ]
     },
     "metadata": {
      "needs_background": "light"
     },
     "output_type": "display_data"
    }
   ],
   "source": [
    "# fillna with the most frequent value combine similar features: no street lights + street lights off, street lights \n",
    "# on + unknown lighting\n",
    "df['LIGHTCOND'] = df['LIGHTCOND'].fillna('Daylight')\n",
    "df['LIGHTCOND'] = df['LIGHTCOND'].replace({'Dark - No Street Lights': 'Dark', \n",
    "                                           'Dark - Street Lights Off': 'Dark', \n",
    "                                           'Dark - Unknown Lighting': 'Dark - Street Lights On',\n",
    "                                           'Unknown': 'Other'})\n",
    "\n",
    "# display graph in relation to SEVERITYCODE\n",
    "fig, ax = plt.subplots(2, 1)\n",
    "fig.set_figheight(8)\n",
    "fig.set_figwidth(5)\n",
    "\n",
    "sn.countplot(data=df, y='LIGHTCOND', hue='SEVERITYCODE', ax=ax[0])\n",
    "sn.pointplot(x=\"SEVERITYCODE\", y=\"LIGHTCOND\", linestyles=[\"--\"], data=df, ax=ax[1])\n",
    "\n",
    "\n",
    "# display table in relation to SEVERITYCODE\n",
    "df.groupby(['LIGHTCOND'])['SEVERITYCODE'].value_counts(normalize=True).to_frame()"
   ]
  },
  {
   "cell_type": "markdown",
   "metadata": {},
   "source": [
    "Light condition has a tiny difference in severity ratio: .7-.2 vs .6-.3"
   ]
  },
  {
   "cell_type": "markdown",
   "metadata": {},
   "source": [
    "<h5> JUNCTIONTYPE"
   ]
  },
  {
   "cell_type": "code",
   "execution_count": 223,
   "metadata": {},
   "outputs": [
    {
     "data": {
      "text/html": [
       "<div>\n",
       "<style scoped>\n",
       "    .dataframe tbody tr th:only-of-type {\n",
       "        vertical-align: middle;\n",
       "    }\n",
       "\n",
       "    .dataframe tbody tr th {\n",
       "        vertical-align: top;\n",
       "    }\n",
       "\n",
       "    .dataframe thead th {\n",
       "        text-align: right;\n",
       "    }\n",
       "</style>\n",
       "<table border=\"1\" class=\"dataframe\">\n",
       "  <thead>\n",
       "    <tr style=\"text-align: right;\">\n",
       "      <th></th>\n",
       "      <th></th>\n",
       "      <th>SEVERITYCODE</th>\n",
       "    </tr>\n",
       "    <tr>\n",
       "      <th>JUNCTIONTYPE</th>\n",
       "      <th>SEVERITYCODE</th>\n",
       "      <th></th>\n",
       "    </tr>\n",
       "  </thead>\n",
       "  <tbody>\n",
       "    <tr>\n",
       "      <th rowspan=\"2\" valign=\"top\">At Intersection (but not related to intersection)</th>\n",
       "      <th>1</th>\n",
       "      <td>0.703051</td>\n",
       "    </tr>\n",
       "    <tr>\n",
       "      <th>2</th>\n",
       "      <td>0.296949</td>\n",
       "    </tr>\n",
       "    <tr>\n",
       "      <th rowspan=\"2\" valign=\"top\">At Intersection (intersection related)</th>\n",
       "      <th>1</th>\n",
       "      <td>0.567362</td>\n",
       "    </tr>\n",
       "    <tr>\n",
       "      <th>2</th>\n",
       "      <td>0.432638</td>\n",
       "    </tr>\n",
       "    <tr>\n",
       "      <th rowspan=\"2\" valign=\"top\">Driveway Junction</th>\n",
       "      <th>1</th>\n",
       "      <td>0.696936</td>\n",
       "    </tr>\n",
       "    <tr>\n",
       "      <th>2</th>\n",
       "      <td>0.303064</td>\n",
       "    </tr>\n",
       "    <tr>\n",
       "      <th rowspan=\"2\" valign=\"top\">Mid-Block (but intersection related)</th>\n",
       "      <th>1</th>\n",
       "      <td>0.679816</td>\n",
       "    </tr>\n",
       "    <tr>\n",
       "      <th>2</th>\n",
       "      <td>0.320184</td>\n",
       "    </tr>\n",
       "    <tr>\n",
       "      <th rowspan=\"2\" valign=\"top\">Mid-Block (not related to intersection)</th>\n",
       "      <th>1</th>\n",
       "      <td>0.793984</td>\n",
       "    </tr>\n",
       "    <tr>\n",
       "      <th>2</th>\n",
       "      <td>0.206016</td>\n",
       "    </tr>\n",
       "    <tr>\n",
       "      <th rowspan=\"2\" valign=\"top\">Ramp Junction</th>\n",
       "      <th>1</th>\n",
       "      <td>0.674699</td>\n",
       "    </tr>\n",
       "    <tr>\n",
       "      <th>2</th>\n",
       "      <td>0.325301</td>\n",
       "    </tr>\n",
       "  </tbody>\n",
       "</table>\n",
       "</div>"
      ],
      "text/plain": [
       "                                                                SEVERITYCODE\n",
       "JUNCTIONTYPE                                      SEVERITYCODE              \n",
       "At Intersection (but not related to intersection) 1                 0.703051\n",
       "                                                  2                 0.296949\n",
       "At Intersection (intersection related)            1                 0.567362\n",
       "                                                  2                 0.432638\n",
       "Driveway Junction                                 1                 0.696936\n",
       "                                                  2                 0.303064\n",
       "Mid-Block (but intersection related)              1                 0.679816\n",
       "                                                  2                 0.320184\n",
       "Mid-Block (not related to intersection)           1                 0.793984\n",
       "                                                  2                 0.206016\n",
       "Ramp Junction                                     1                 0.674699\n",
       "                                                  2                 0.325301"
      ]
     },
     "execution_count": 223,
     "metadata": {},
     "output_type": "execute_result"
    },
    {
     "data": {
      "image/png": "[encoded data removed]",
      "text/plain": [
       "<Figure size 360x576 with 2 Axes>"
      ]
     },
     "metadata": {
      "needs_background": "light"
     },
     "output_type": "display_data"
    }
   ],
   "source": [
    "# fillna with the most frequent value\n",
    "df['JUNCTIONTYPE'] = df['JUNCTIONTYPE'].fillna('Mid-Block (not related to intersection)')\n",
    "\n",
    "# combine unknown with the most frequent value\n",
    "df['JUNCTIONTYPE'] = df['JUNCTIONTYPE'].replace({'Unknown': 'Mid-Block (not related to intersection)'})\n",
    "\n",
    "# display graph in relation to SEVERITYCODE\n",
    "fig, ax = plt.subplots(2, 1)\n",
    "fig.set_figheight(8)\n",
    "fig.set_figwidth(5)\n",
    "\n",
    "sn.countplot(data=df, y='JUNCTIONTYPE', hue='SEVERITYCODE', ax=ax[0])\n",
    "sn.pointplot(x=\"SEVERITYCODE\", y=\"JUNCTIONTYPE\", linestyles=[\"--\"], data=df, ax=ax[1])\n",
    "# sn.countplot(data=df, y='JUNCTIONTYPE', hue='SEVERITYCODE')\n",
    "\n",
    "# display table in relation to SEVERITYCODE\n",
    "df.groupby(['JUNCTIONTYPE'])['SEVERITYCODE'].value_counts(normalize=True).to_frame()"
   ]
  },
  {
   "cell_type": "raw",
   "metadata": {},
   "source": [
    "With intersection as an exception(50/50), other are between .7-.2 and .6-.3"
   ]
  },
  {
   "cell_type": "markdown",
   "metadata": {},
   "source": [
    "<h5> PERSONCOUNT"
   ]
  },
  {
   "cell_type": "markdown",
   "metadata": {},
   "source": [
    "This graph isn't super useful but at least it tells us that when 'PERSONCOUNT' is higher than 30 the probability of 'SEVERITYCODE' being 1 is higher than 2."
   ]
  },
  {
   "cell_type": "code",
   "execution_count": 224,
   "metadata": {},
   "outputs": [
    {
     "data": {
      "text/html": [
       "<div>\n",
       "<style scoped>\n",
       "    .dataframe tbody tr th:only-of-type {\n",
       "        vertical-align: middle;\n",
       "    }\n",
       "\n",
       "    .dataframe tbody tr th {\n",
       "        vertical-align: top;\n",
       "    }\n",
       "\n",
       "    .dataframe thead th {\n",
       "        text-align: right;\n",
       "    }\n",
       "</style>\n",
       "<table border=\"1\" class=\"dataframe\">\n",
       "  <thead>\n",
       "    <tr style=\"text-align: right;\">\n",
       "      <th></th>\n",
       "      <th></th>\n",
       "      <th>SEVERITYCODE</th>\n",
       "    </tr>\n",
       "    <tr>\n",
       "      <th>PERSONCOUNT</th>\n",
       "      <th>SEVERITYCODE</th>\n",
       "      <th></th>\n",
       "    </tr>\n",
       "  </thead>\n",
       "  <tbody>\n",
       "    <tr>\n",
       "      <th rowspan=\"2\" valign=\"top\">0</th>\n",
       "      <th>1</th>\n",
       "      <td>0.682179</td>\n",
       "    </tr>\n",
       "    <tr>\n",
       "      <th>2</th>\n",
       "      <td>0.317821</td>\n",
       "    </tr>\n",
       "    <tr>\n",
       "      <th rowspan=\"2\" valign=\"top\">1</th>\n",
       "      <th>1</th>\n",
       "      <td>0.749430</td>\n",
       "    </tr>\n",
       "    <tr>\n",
       "      <th>2</th>\n",
       "      <td>0.250570</td>\n",
       "    </tr>\n",
       "    <tr>\n",
       "      <th rowspan=\"2\" valign=\"top\">2</th>\n",
       "      <th>1</th>\n",
       "      <td>0.756537</td>\n",
       "    </tr>\n",
       "    <tr>\n",
       "      <th>2</th>\n",
       "      <td>0.243463</td>\n",
       "    </tr>\n",
       "    <tr>\n",
       "      <th rowspan=\"2\" valign=\"top\">3</th>\n",
       "      <th>1</th>\n",
       "      <td>0.621382</td>\n",
       "    </tr>\n",
       "    <tr>\n",
       "      <th>2</th>\n",
       "      <td>0.378618</td>\n",
       "    </tr>\n",
       "    <tr>\n",
       "      <th rowspan=\"2\" valign=\"top\">4</th>\n",
       "      <th>1</th>\n",
       "      <td>0.570600</td>\n",
       "    </tr>\n",
       "    <tr>\n",
       "      <th>2</th>\n",
       "      <td>0.429400</td>\n",
       "    </tr>\n",
       "    <tr>\n",
       "      <th rowspan=\"2\" valign=\"top\">5</th>\n",
       "      <th>1</th>\n",
       "      <td>0.549058</td>\n",
       "    </tr>\n",
       "    <tr>\n",
       "      <th>2</th>\n",
       "      <td>0.450942</td>\n",
       "    </tr>\n",
       "    <tr>\n",
       "      <th rowspan=\"2\" valign=\"top\">6</th>\n",
       "      <th>2</th>\n",
       "      <td>0.524358</td>\n",
       "    </tr>\n",
       "    <tr>\n",
       "      <th>1</th>\n",
       "      <td>0.475642</td>\n",
       "    </tr>\n",
       "  </tbody>\n",
       "</table>\n",
       "</div>"
      ],
      "text/plain": [
       "                          SEVERITYCODE\n",
       "PERSONCOUNT SEVERITYCODE              \n",
       "0           1                 0.682179\n",
       "            2                 0.317821\n",
       "1           1                 0.749430\n",
       "            2                 0.250570\n",
       "2           1                 0.756537\n",
       "            2                 0.243463\n",
       "3           1                 0.621382\n",
       "            2                 0.378618\n",
       "4           1                 0.570600\n",
       "            2                 0.429400\n",
       "5           1                 0.549058\n",
       "            2                 0.450942\n",
       "6           2                 0.524358\n",
       "            1                 0.475642"
      ]
     },
     "execution_count": 224,
     "metadata": {},
     "output_type": "execute_result"
    },
    {
     "data": {
      "image/png": "[encoded data removed]",
      "text/plain": [
       "<Figure size 1296x360 with 2 Axes>"
      ]
     },
     "metadata": {
      "needs_background": "light"
     },
     "output_type": "display_data"
    }
   ],
   "source": [
    "# we are binning 6 or more to one group: 6\n",
    "df['PERSONCOUNT'] = df['PERSONCOUNT'].replace({81: 6, 54: 6, 57: 6, 48: 6, 43: 6, 41: 6, 39: 6, 35: 6, 31: 6, 53: 6, 23: 6,\n",
    "                                               24: 6, 30: 6, 21: 6, 36: 6, 29: 6, 28: 6, 27: 6, 37: 6, 47: 6, 34: 6, 32: 6,\n",
    "                                               26: 6, 22: 6, 19: 6, 18: 6, 25: 6, 20: 6, 44: 6, 13: 6, 14: 6, 15: 6, 16: 6,\n",
    "                                               17: 6, 7: 6, 8: 6, 9: 6, 10: 6, 11: 6, 12: 6})\n",
    "\n",
    "# graph of PERSONCOUNT in relation to SEVERITYCODE\n",
    "fig, ax = plt.subplots(1, 2)\n",
    "fig.set_figheight(5)\n",
    "fig.set_figwidth(18)\n",
    "\n",
    "sn.countplot(data=df, y='PERSONCOUNT', hue='SEVERITYCODE', ax=ax[0])\n",
    "sn.pointplot(x=\"SEVERITYCODE\", y=\"PERSONCOUNT\", linestyles=[\"--\"], data=df, ax=ax[1])\n",
    "\n",
    "\n",
    "# table of PERSONCOUNT in relation to SEVERITYCODE\n",
    "df.groupby(['PERSONCOUNT'])['SEVERITYCODE'].value_counts(normalize=True).to_frame()"
   ]
  },
  {
   "cell_type": "markdown",
   "metadata": {},
   "source": [
    "As person count increase, so is injury. This makes sense."
   ]
  },
  {
   "cell_type": "markdown",
   "metadata": {},
   "source": [
    "<h5> PEDCOUNT"
   ]
  },
  {
   "cell_type": "code",
   "execution_count": 225,
   "metadata": {},
   "outputs": [
    {
     "data": {
      "text/html": [
       "<div>\n",
       "<style scoped>\n",
       "    .dataframe tbody tr th:only-of-type {\n",
       "        vertical-align: middle;\n",
       "    }\n",
       "\n",
       "    .dataframe tbody tr th {\n",
       "        vertical-align: top;\n",
       "    }\n",
       "\n",
       "    .dataframe thead th {\n",
       "        text-align: right;\n",
       "    }\n",
       "</style>\n",
       "<table border=\"1\" class=\"dataframe\">\n",
       "  <thead>\n",
       "    <tr style=\"text-align: right;\">\n",
       "      <th></th>\n",
       "      <th></th>\n",
       "      <th>SEVERITYCODE</th>\n",
       "    </tr>\n",
       "    <tr>\n",
       "      <th>PEDCOUNT</th>\n",
       "      <th>SEVERITYCODE</th>\n",
       "      <th></th>\n",
       "    </tr>\n",
       "  </thead>\n",
       "  <tbody>\n",
       "    <tr>\n",
       "      <th rowspan=\"2\" valign=\"top\">0</th>\n",
       "      <th>1</th>\n",
       "      <td>0.723295</td>\n",
       "    </tr>\n",
       "    <tr>\n",
       "      <th>2</th>\n",
       "      <td>0.276705</td>\n",
       "    </tr>\n",
       "    <tr>\n",
       "      <th rowspan=\"2\" valign=\"top\">1</th>\n",
       "      <th>2</th>\n",
       "      <td>0.898579</td>\n",
       "    </tr>\n",
       "    <tr>\n",
       "      <th>1</th>\n",
       "      <td>0.101421</td>\n",
       "    </tr>\n",
       "    <tr>\n",
       "      <th rowspan=\"2\" valign=\"top\">2</th>\n",
       "      <th>2</th>\n",
       "      <td>0.915929</td>\n",
       "    </tr>\n",
       "    <tr>\n",
       "      <th>1</th>\n",
       "      <td>0.084071</td>\n",
       "    </tr>\n",
       "    <tr>\n",
       "      <th rowspan=\"2\" valign=\"top\">3</th>\n",
       "      <th>2</th>\n",
       "      <td>0.964286</td>\n",
       "    </tr>\n",
       "    <tr>\n",
       "      <th>1</th>\n",
       "      <td>0.035714</td>\n",
       "    </tr>\n",
       "  </tbody>\n",
       "</table>\n",
       "</div>"
      ],
      "text/plain": [
       "                       SEVERITYCODE\n",
       "PEDCOUNT SEVERITYCODE              \n",
       "0        1                 0.723295\n",
       "         2                 0.276705\n",
       "1        2                 0.898579\n",
       "         1                 0.101421\n",
       "2        2                 0.915929\n",
       "         1                 0.084071\n",
       "3        2                 0.964286\n",
       "         1                 0.035714"
      ]
     },
     "execution_count": 225,
     "metadata": {},
     "output_type": "execute_result"
    },
    {
     "data": {
      "image/png": "[encoded data removed]",
      "text/plain": [
       "<Figure size 1296x360 with 2 Axes>"
      ]
     },
     "metadata": {
      "needs_background": "light"
     },
     "output_type": "display_data"
    }
   ],
   "source": [
    "# binning 3, 4, 5, 6 as one group\n",
    "df['PEDCOUNT'] = df['PEDCOUNT'].replace({4: 3, 6: 3, 5: 3})\n",
    "\n",
    "# graph of PEDCOUNT in relation to SEVERITYCODE\n",
    "fig, ax = plt.subplots(1, 2)\n",
    "fig.set_figheight(5)\n",
    "fig.set_figwidth(18)\n",
    "\n",
    "sn.countplot(data=df, y='PEDCOUNT', hue='SEVERITYCODE', ax=ax[0])\n",
    "sn.pointplot(x=\"SEVERITYCODE\", y=\"PEDCOUNT\", linestyles=[\"--\"], data=df, ax=ax[1])\n",
    "\n",
    "\n",
    "# table of PEDCOUNT in relation to SEVERITYCODE\n",
    "df.groupby(['PEDCOUNT'])['SEVERITYCODE'].value_counts(normalize=True).to_frame()"
   ]
  },
  {
   "cell_type": "markdown",
   "metadata": {},
   "source": [
    "Also like previous feature, as pedastrains increase so are injuries. .72-.27 vs .10-.89 vs .08-.91 vs .03-.96"
   ]
  },
  {
   "cell_type": "markdown",
   "metadata": {},
   "source": [
    "<h5>VEHCOUNT"
   ]
  },
  {
   "cell_type": "code",
   "execution_count": 226,
   "metadata": {},
   "outputs": [
    {
     "data": {
      "text/html": [
       "<div>\n",
       "<style scoped>\n",
       "    .dataframe tbody tr th:only-of-type {\n",
       "        vertical-align: middle;\n",
       "    }\n",
       "\n",
       "    .dataframe tbody tr th {\n",
       "        vertical-align: top;\n",
       "    }\n",
       "\n",
       "    .dataframe thead th {\n",
       "        text-align: right;\n",
       "    }\n",
       "</style>\n",
       "<table border=\"1\" class=\"dataframe\">\n",
       "  <thead>\n",
       "    <tr style=\"text-align: right;\">\n",
       "      <th></th>\n",
       "      <th></th>\n",
       "      <th>SEVERITYCODE</th>\n",
       "    </tr>\n",
       "    <tr>\n",
       "      <th>VEHCOUNT</th>\n",
       "      <th>SEVERITYCODE</th>\n",
       "      <th></th>\n",
       "    </tr>\n",
       "  </thead>\n",
       "  <tbody>\n",
       "    <tr>\n",
       "      <th rowspan=\"2\" valign=\"top\">0</th>\n",
       "      <th>1</th>\n",
       "      <td>0.758702</td>\n",
       "    </tr>\n",
       "    <tr>\n",
       "      <th>2</th>\n",
       "      <td>0.241298</td>\n",
       "    </tr>\n",
       "    <tr>\n",
       "      <th rowspan=\"2\" valign=\"top\">1</th>\n",
       "      <th>2</th>\n",
       "      <td>0.547810</td>\n",
       "    </tr>\n",
       "    <tr>\n",
       "      <th>1</th>\n",
       "      <td>0.452190</td>\n",
       "    </tr>\n",
       "    <tr>\n",
       "      <th rowspan=\"2\" valign=\"top\">2</th>\n",
       "      <th>1</th>\n",
       "      <td>0.756526</td>\n",
       "    </tr>\n",
       "    <tr>\n",
       "      <th>2</th>\n",
       "      <td>0.243474</td>\n",
       "    </tr>\n",
       "    <tr>\n",
       "      <th rowspan=\"2\" valign=\"top\">3</th>\n",
       "      <th>1</th>\n",
       "      <td>0.579554</td>\n",
       "    </tr>\n",
       "    <tr>\n",
       "      <th>2</th>\n",
       "      <td>0.420446</td>\n",
       "    </tr>\n",
       "    <tr>\n",
       "      <th rowspan=\"2\" valign=\"top\">4</th>\n",
       "      <th>1</th>\n",
       "      <td>0.555647</td>\n",
       "    </tr>\n",
       "    <tr>\n",
       "      <th>2</th>\n",
       "      <td>0.444353</td>\n",
       "    </tr>\n",
       "    <tr>\n",
       "      <th rowspan=\"2\" valign=\"top\">5</th>\n",
       "      <th>1</th>\n",
       "      <td>0.523873</td>\n",
       "    </tr>\n",
       "    <tr>\n",
       "      <th>2</th>\n",
       "      <td>0.476127</td>\n",
       "    </tr>\n",
       "  </tbody>\n",
       "</table>\n",
       "</div>"
      ],
      "text/plain": [
       "                       SEVERITYCODE\n",
       "VEHCOUNT SEVERITYCODE              \n",
       "0        1                 0.758702\n",
       "         2                 0.241298\n",
       "1        2                 0.547810\n",
       "         1                 0.452190\n",
       "2        1                 0.756526\n",
       "         2                 0.243474\n",
       "3        1                 0.579554\n",
       "         2                 0.420446\n",
       "4        1                 0.555647\n",
       "         2                 0.444353\n",
       "5        1                 0.523873\n",
       "         2                 0.476127"
      ]
     },
     "execution_count": 226,
     "metadata": {},
     "output_type": "execute_result"
    },
    {
     "data": {
      "image/png": "[encoded data removed]",
      "text/plain": [
       "<Figure size 1296x360 with 2 Axes>"
      ]
     },
     "metadata": {
      "needs_background": "light"
     },
     "output_type": "display_data"
    }
   ],
   "source": [
    "# binning 5 or more into one catagory\n",
    "df['VEHCOUNT'] = df['VEHCOUNT'].replace({12: 5, 10: 5, 11: 5, 9: 5, 8: 5, 7: 5, 6: 5})\n",
    "\n",
    "# graph of VEHCOUNT in relation to SEVERITYCODE\n",
    "fig, ax = plt.subplots(1, 2)\n",
    "fig.set_figheight(5)\n",
    "fig.set_figwidth(18)\n",
    "\n",
    "sn.countplot(data=df, y='VEHCOUNT', hue='SEVERITYCODE', ax=ax[0])\n",
    "sn.pointplot(x=\"SEVERITYCODE\", y=\"VEHCOUNT\", linestyles=[\"--\"], data=df, ax=ax[1])\n",
    "\n",
    "\n",
    "# table of VEHCOUNT in relation to SEVERITYCODE\n",
    "df.groupby(['VEHCOUNT'])['SEVERITYCODE'].value_counts(normalize=True).to_frame()"
   ]
  },
  {
   "cell_type": "markdown",
   "metadata": {},
   "source": [
    "50/50 is the majority of cases"
   ]
  },
  {
   "cell_type": "markdown",
   "metadata": {},
   "source": [
    "<h5>X and Y"
   ]
  },
  {
   "cell_type": "code",
   "execution_count": 227,
   "metadata": {},
   "outputs": [],
   "source": [
    "# fillna with mean value\n",
    "df['X'].fillna(value=df['X'].mean(), inplace=True)\n",
    "df['Y'].fillna(value=df['Y'].mean(), inplace=True)"
   ]
  },
  {
   "cell_type": "code",
   "execution_count": 228,
   "metadata": {},
   "outputs": [],
   "source": [
    "# split the data with severitcode 1 and 2\n",
    "df_code_1 = df[df['SEVERITYCODE'] == 1]\n",
    "df_code_2 = df[df['SEVERITYCODE'] == 2]"
   ]
  },
  {
   "cell_type": "code",
   "execution_count": 229,
   "metadata": {},
   "outputs": [
    {
     "data": {
      "text/plain": [
       "<matplotlib.axes._subplots.AxesSubplot at 0x23e121cdd90>"
      ]
     },
     "execution_count": 229,
     "metadata": {},
     "output_type": "execute_result"
    },
    {
     "data": {
      "image/png": "[encoded data removed]",
      "text/plain": [
       "<Figure size 1080x360 with 2 Axes>"
      ]
     },
     "metadata": {
      "needs_background": "light"
     },
     "output_type": "display_data"
    }
   ],
   "source": [
    "fig, ax = plt.subplots(1, 2)\n",
    "fig.set_figheight(5)\n",
    "fig.set_figwidth(15)\n",
    "\n",
    "ax[0].set_title('Y')\n",
    "sn.distplot(df_code_1['Y'], hist = False, ax=ax[0])\n",
    "sn.distplot(df_code_2['Y'], hist = False, ax=ax[0])\n",
    "\n",
    "ax[1].set_title('X')\n",
    "sn.distplot(df_code_1['X'], hist = False, ax=ax[1])\n",
    "sn.distplot(df_code_2['X'], hist = False, ax=ax[1])"
   ]
  },
  {
   "cell_type": "markdown",
   "metadata": {},
   "source": [
    "Blue line = severity code 1(propertiy damage) <br/>\n",
    "Orange line = severity code 2(injuries) <br/>\n",
    "Althought not the as much as I expected, there are still a subtle relationshiop between the location of accident and what kind of accident."
   ]
  },
  {
   "cell_type": "markdown",
   "metadata": {},
   "source": [
    "**III. Handle outliers**<br/>\n",
    "SDOT_COLCODE and ST_COLCODE"
   ]
  },
  {
   "cell_type": "markdown",
   "metadata": {},
   "source": [
    "<h5>SDOT_COLCODE"
   ]
  },
  {
   "cell_type": "code",
   "execution_count": 230,
   "metadata": {},
   "outputs": [
    {
     "data": {
      "text/plain": [
       "11    85209\n",
       "14    54299\n",
       "16     9928\n",
       "0      9787\n",
       "28     8856\n",
       "24     6518\n",
       "13     5852\n",
       "26     4741\n",
       "18     3104\n",
       "15     1604\n",
       "12     1440\n",
       "51     1312\n",
       "29      479\n",
       "21      181\n",
       "56      180\n",
       "27      166\n",
       "54      139\n",
       "23      124\n",
       "48      107\n",
       "31      104\n",
       "25      102\n",
       "34       93\n",
       "64       75\n",
       "69       69\n",
       "33       53\n",
       "55       50\n",
       "66       23\n",
       "22       17\n",
       "32       12\n",
       "53        9\n",
       "44        8\n",
       "61        7\n",
       "35        6\n",
       "58        5\n",
       "68        4\n",
       "36        4\n",
       "46        3\n",
       "52        2\n",
       "47        1\n",
       "Name: SDOT_COLCODE, dtype: int64"
      ]
     },
     "execution_count": 230,
     "metadata": {},
     "output_type": "execute_result"
    }
   ],
   "source": [
    "df['SDOT_COLCODE'].value_counts()"
   ]
  },
  {
   "cell_type": "markdown",
   "metadata": {},
   "source": [
    "There are a huge amount of SDOT_COLCODE that happens so rarely that we can treat them as outliers."
   ]
  },
  {
   "cell_type": "code",
   "execution_count": 231,
   "metadata": {},
   "outputs": [],
   "source": [
    "# since a large portion of numbers only shows up 1- 500 times, I changed their value to most frequent value.\n",
    "df['SDOT_COLCODE'] = df['SDOT_COLCODE'].replace({47: 11, 52: 11, 46: 11, 36: 11, 68: 11, 58: 11, 35: 11, 61: 11, 44: 11, 53: 11,\n",
    "                                                 23: 11, 32: 11, 22: 11, 66: 11, 55: 11, 33: 11, 69: 11, 64: 11, 34: 11, 25: 11,\n",
    "                                                 31: 11, 48: 11, 23: 11, 54: 11, 27: 11, 56: 11, 21: 11, 29: 11, 51: 11})"
   ]
  },
  {
   "cell_type": "code",
   "execution_count": 232,
   "metadata": {},
   "outputs": [
    {
     "data": {
      "text/plain": [
       "<matplotlib.axes._subplots.AxesSubplot at 0x23e13f052e0>"
      ]
     },
     "execution_count": 232,
     "metadata": {},
     "output_type": "execute_result"
    },
    {
     "data": {
      "image/png": "[encoded data removed]",
      "text/plain": [
       "<Figure size 1080x288 with 1 Axes>"
      ]
     },
     "metadata": {
      "needs_background": "light"
     },
     "output_type": "display_data"
    }
   ],
   "source": [
    "fig, ax = plt.subplots()\n",
    "\n",
    "fig.set_figwidth(15)\n",
    "sn.distplot(df_code_1['SDOT_COLCODE'], hist = False, ax=ax)\n",
    "sn.distplot(df_code_2['SDOT_COLCODE'], hist = False, ax=ax)"
   ]
  },
  {
   "cell_type": "markdown",
   "metadata": {},
   "source": [
    "To my surprise, there is a huge relationship between SDOT_COLCODE and target variable. I almost deleted this feature because I didn't know how to manipulate the data into readable graphs, luckly after a few tries, it paid off."
   ]
  },
  {
   "cell_type": "markdown",
   "metadata": {},
   "source": [
    "<h5>ST_COLCODE"
   ]
  },
  {
   "cell_type": "code",
   "execution_count": 233,
   "metadata": {},
   "outputs": [
    {
     "data": {
      "text/html": [
       "<div>\n",
       "<style scoped>\n",
       "    .dataframe tbody tr th:only-of-type {\n",
       "        vertical-align: middle;\n",
       "    }\n",
       "\n",
       "    .dataframe tbody tr th {\n",
       "        vertical-align: top;\n",
       "    }\n",
       "\n",
       "    .dataframe thead th {\n",
       "        text-align: right;\n",
       "    }\n",
       "</style>\n",
       "<table border=\"1\" class=\"dataframe\">\n",
       "  <thead>\n",
       "    <tr style=\"text-align: right;\">\n",
       "      <th></th>\n",
       "      <th>ST_COLCODE</th>\n",
       "    </tr>\n",
       "  </thead>\n",
       "  <tbody>\n",
       "    <tr>\n",
       "      <th>32</th>\n",
       "      <td>27612</td>\n",
       "    </tr>\n",
       "    <tr>\n",
       "      <th>10</th>\n",
       "      <td>23427</td>\n",
       "    </tr>\n",
       "    <tr>\n",
       "      <th>14</th>\n",
       "      <td>16883</td>\n",
       "    </tr>\n",
       "    <tr>\n",
       "      <th>32</th>\n",
       "      <td>16827</td>\n",
       "    </tr>\n",
       "    <tr>\n",
       "      <th>10</th>\n",
       "      <td>11247</td>\n",
       "    </tr>\n",
       "    <tr>\n",
       "      <th>...</th>\n",
       "      <td>...</td>\n",
       "    </tr>\n",
       "    <tr>\n",
       "      <th>87</th>\n",
       "      <td>1</td>\n",
       "    </tr>\n",
       "    <tr>\n",
       "      <th>54</th>\n",
       "      <td>1</td>\n",
       "    </tr>\n",
       "    <tr>\n",
       "      <th>87</th>\n",
       "      <td>1</td>\n",
       "    </tr>\n",
       "    <tr>\n",
       "      <th>49</th>\n",
       "      <td>1</td>\n",
       "    </tr>\n",
       "    <tr>\n",
       "      <th>43</th>\n",
       "      <td>1</td>\n",
       "    </tr>\n",
       "  </tbody>\n",
       "</table>\n",
       "<p>115 rows × 1 columns</p>\n",
       "</div>"
      ],
      "text/plain": [
       "    ST_COLCODE\n",
       "32       27612\n",
       "10       23427\n",
       "14       16883\n",
       "32       16827\n",
       "10       11247\n",
       "..         ...\n",
       "87           1\n",
       "54           1\n",
       "87           1\n",
       "49           1\n",
       "43           1\n",
       "\n",
       "[115 rows x 1 columns]"
      ]
     },
     "execution_count": 233,
     "metadata": {},
     "output_type": "execute_result"
    }
   ],
   "source": [
    "df['ST_COLCODE'] = df['ST_COLCODE'].fillna(32)\n",
    "# we do not need ST_COLCODES that rearly appears\n",
    "df_counts = df['ST_COLCODE'].value_counts().to_frame()\n",
    "df_counts"
   ]
  },
  {
   "cell_type": "code",
   "execution_count": 234,
   "metadata": {},
   "outputs": [
    {
     "data": {
      "text/plain": [
       "Index([ '0', '16', '20',   45,   23,  '2', '12',   22,   15, '22',   16,   20,\n",
       "         21, '30',   12,    0,  '1', '71', '21', '26',    2, '81', '52', '19',\n",
       "        '5',   71,   30, '24',    1,   26,   52,   19,   81,  '6', '51',   24,\n",
       "       '29', '74',   74, '27',  '3',   51, '73', '25',   29,  '4',    3,   27,\n",
       "       '57', '40', '83', '84',   73, '72', '41', '31',   25,   57,   64,   84,\n",
       "         40,   72, '56',  '8', '48', '82',   83,    4,  '7', '53', '64',   41,\n",
       "         82,   56,   31, '17',   48,   53, '88',   65, '42', '54', '66',   66,\n",
       "       '67', '18',   67,   42, '65', '60', '85',   43, '87',   54,   87, '49',\n",
       "       '43'],\n",
       "      dtype='object')"
      ]
     },
     "execution_count": 234,
     "metadata": {},
     "output_type": "execute_result"
    }
   ],
   "source": [
    "# find out what values appeared less than 2000 times\n",
    "codes_less_than_1k = df_counts[(df_counts['ST_COLCODE']<2000)].index\n",
    "codes_less_than_1k"
   ]
  },
  {
   "cell_type": "code",
   "execution_count": 235,
   "metadata": {},
   "outputs": [],
   "source": [
    "# replace those values with the most frequent values\n",
    "df['ST_COLCODE'] = df['ST_COLCODE'].replace({'0': 32, '16': 32, '20': 32, 45: 32, 23: 32, '2':32, '12':32, 22: 32, 15: 32, \n",
    "                                             '22': 32, 16: 32, 20: 32, 21: 32, '30': 32, 12: 32, 0: 32, '1': 32, '71': 32,\n",
    "                                             '21': 32, '26': 32, 2: 32, '81': 32, '52': 32, '19': 32, '5': 32, 71: 32, 30: 32,\n",
    "                                             '24': 32, 1: 32, 26: 32, 52: 32, 19: 32, 81: 32, '6': 32, '51': 32, 24: 32,\n",
    "                                             '29': 32, '74': 32, 74: 32, '27': 32, '3': 32, 51: 32, '73': 32, '25': 32, 29: 32,\n",
    "                                             '4': 32, 3: 32, 27: 32, '57': 32, '40': 32, '83': 32, '84': 32, 73: 32, '72': 32,\n",
    "                                             '41': 32, '31': 32, 64: 32, 25: 32, 57: 32, 84: 32, 40: 32, 72: 32, '56': 32, \n",
    "                                             '8': 32, '48': 32, 83: 32, '82': 32, 4: 32, '53': 32, '7': 32, 41: 32, '64': 32,\n",
    "                                             82: 32, 56: 32, 31: 32, 48: 32, '17': 32, 65: 32, 53: 32, '88': 32, '42': 32,\n",
    "                                             '54': 32, '66': 32, '18': 32, 66: 32, '67': 32, 42: 32, 67: 32, '65': 32, '87': 32,\n",
    "                                             '43': 32, '85': 32, '60': 32, 43: 32, 87: 32, 54: 32, '49': 32, '32': 32, '11': 11,\n",
    "                                             '14': 14, '10': 10, '13': 13, ' ': 0, '50': 50})"
   ]
  },
  {
   "cell_type": "code",
   "execution_count": 236,
   "metadata": {},
   "outputs": [
    {
     "data": {
      "text/plain": [
       "<matplotlib.axes._subplots.AxesSubplot at 0x23e121724c0>"
      ]
     },
     "execution_count": 236,
     "metadata": {},
     "output_type": "execute_result"
    },
    {
     "data": {
      "image/png": "[encoded data removed]",
      "text/plain": [
       "<Figure size 1080x288 with 1 Axes>"
      ]
     },
     "metadata": {
      "needs_background": "light"
     },
     "output_type": "display_data"
    }
   ],
   "source": [
    "from sklearn import preprocessing\n",
    "encoder = preprocessing.LabelEncoder()\n",
    "\n",
    "# encode from object to numeric values\n",
    "df['ST_COLCODE'] = encoder.fit_transform(pd.to_numeric(df['ST_COLCODE'],errors='coerce'))\n",
    "df_code_1 = df[df['SEVERITYCODE'] == 1]\n",
    "df_code_2 = df[df['SEVERITYCODE'] == 2]\n",
    "\n",
    "fig, ax = plt.subplots()\n",
    "fig.set_figwidth(15)\n",
    "sn.distplot(df_code_1['ST_COLCODE'], hist = False, ax=ax)\n",
    "sn.distplot(df_code_2['ST_COLCODE'], hist = False, ax=ax)"
   ]
  },
  {
   "cell_type": "markdown",
   "metadata": {},
   "source": [
    "Again, same with SDOT_COLCODE, I almost deleted the feature because I didn't find a way to display the data in a meaningful way. There is a huge relationship between ST_COLCODE and target variable. We will definiatly include these 2 features in training our model."
   ]
  },
  {
   "cell_type": "markdown",
   "metadata": {},
   "source": [
    "**IV. Data encoding**<br/>\n",
    "    (Not all features need to be encoded, only features that does not have numric values)"
   ]
  },
  {
   "cell_type": "code",
   "execution_count": 237,
   "metadata": {},
   "outputs": [],
   "source": [
    "# feature encoding UNDERINFL\n",
    "df['UNDERINFL'] = df['UNDERINFL'].replace({'N': 0, 'Y': 1})\n",
    "\n",
    "# feature encoding ADDRTYPE\n",
    "df['ADDRTYPE'] = df['ADDRTYPE'].replace({'Block': 0, 'Intersection': 1, 'Alley': 2})\n",
    "\n",
    "# feature encoding COLLISIONTYPE\n",
    "df['COLLISIONTYPE'] = df['COLLISIONTYPE'].replace({'Angles': 0, 'Cycles': 1, 'Head On': 2, 'Left Turn': 3, 'Other': 4,\n",
    "                                                   'Parked Car': 5, 'Pedestrian': 6, 'Rear Ended': 7, 'Right Turn': 8,\n",
    "                                                   'Sideswipe': 9})\n",
    "\n",
    "# feature encoding ROADCOND\n",
    "df['ROADCOND'] = df['ROADCOND'].replace({'Dry': 0, 'Wet': 1, 'Other': 2})\n",
    "\n",
    "# feature encoding WEATHER\n",
    "df['WEATHER'] = df['WEATHER'].replace({'Clear': 0, 'Overcast': 1, 'Other': 2, 'Raining': 3})\n",
    "\n",
    "# feature encoding JUNCTIONTYPE\n",
    "df['JUNCTIONTYPE'] = df['JUNCTIONTYPE'].replace({'At Intersection (but not related to intersection)': 0, \n",
    "                                                 'At Intersection (intersection related)': 1, \n",
    "                                                 'Driveway Junction': 2, 'Ramp Junction': 3,\n",
    "                                                 'Mid-Block (but intersection related)': 4, \n",
    "                                                 'Mid-Block (not related to intersection)': 5})\n",
    "\n",
    "# feature encoding LIGHTCOND\n",
    "df['LIGHTCOND'] = df['LIGHTCOND'].replace({'Dark': 0, 'Dark - Street Lights On': 1, 'Dawn': 2, 'Daylight': 3, 'Dusk': 4, \n",
    "                                           'Other': 5})"
   ]
  },
  {
   "cell_type": "markdown",
   "metadata": {},
   "source": [
    "<h5>STATUS"
   ]
  },
  {
   "cell_type": "code",
   "execution_count": 238,
   "metadata": {},
   "outputs": [
    {
     "data": {
      "text/html": [
       "<div>\n",
       "<style scoped>\n",
       "    .dataframe tbody tr th:only-of-type {\n",
       "        vertical-align: middle;\n",
       "    }\n",
       "\n",
       "    .dataframe tbody tr th {\n",
       "        vertical-align: top;\n",
       "    }\n",
       "\n",
       "    .dataframe thead th {\n",
       "        text-align: right;\n",
       "    }\n",
       "</style>\n",
       "<table border=\"1\" class=\"dataframe\">\n",
       "  <thead>\n",
       "    <tr style=\"text-align: right;\">\n",
       "      <th></th>\n",
       "      <th></th>\n",
       "      <th>STATUS</th>\n",
       "    </tr>\n",
       "    <tr>\n",
       "      <th>SEVERITYCODE</th>\n",
       "      <th>STATUS</th>\n",
       "      <th></th>\n",
       "    </tr>\n",
       "  </thead>\n",
       "  <tbody>\n",
       "    <tr>\n",
       "      <th rowspan=\"2\" valign=\"top\">1</th>\n",
       "      <th>1</th>\n",
       "      <td>0.971733</td>\n",
       "    </tr>\n",
       "    <tr>\n",
       "      <th>0</th>\n",
       "      <td>0.028267</td>\n",
       "    </tr>\n",
       "    <tr>\n",
       "      <th rowspan=\"2\" valign=\"top\">2</th>\n",
       "      <th>1</th>\n",
       "      <td>0.982316</td>\n",
       "    </tr>\n",
       "    <tr>\n",
       "      <th>0</th>\n",
       "      <td>0.017684</td>\n",
       "    </tr>\n",
       "  </tbody>\n",
       "</table>\n",
       "</div>"
      ],
      "text/plain": [
       "                       STATUS\n",
       "SEVERITYCODE STATUS          \n",
       "1            1       0.971733\n",
       "             0       0.028267\n",
       "2            1       0.982316\n",
       "             0       0.017684"
      ]
     },
     "execution_count": 238,
     "metadata": {},
     "output_type": "execute_result"
    },
    {
     "data": {
      "image/png": "[encoded data removed]",
      "text/plain": [
       "<Figure size 1296x360 with 2 Axes>"
      ]
     },
     "metadata": {
      "needs_background": "light"
     },
     "output_type": "display_data"
    }
   ],
   "source": [
    "df['STATUS'] = df['STATUS'].replace({'Matched': 1, 'Unmatched': 0})\n",
    "\n",
    "# graph of STATUS in relation to SEVERITYCODE\n",
    "fig, ax = plt.subplots(1, 2)\n",
    "fig.set_figheight(5)\n",
    "fig.set_figwidth(18)\n",
    "\n",
    "sn.countplot(data=df, y='STATUS', hue='SEVERITYCODE', ax=ax[0])\n",
    "sn.pointplot(x=\"SEVERITYCODE\", y=\"STATUS\", linestyles=[\"--\"], data=df, ax=ax[1])\n",
    "\n",
    "\n",
    "# table of STATUS in relation to SEVERITYCODE\n",
    "df.groupby(['SEVERITYCODE'])['STATUS'].value_counts(normalize=True).to_frame()"
   ]
  },
  {
   "cell_type": "markdown",
   "metadata": {},
   "source": [
    ".97-.02 vs .98-.01, this feature is not very useful "
   ]
  },
  {
   "cell_type": "markdown",
   "metadata": {},
   "source": [
    "<h5>PEDCYLCOUNT"
   ]
  },
  {
   "cell_type": "code",
   "execution_count": 239,
   "metadata": {},
   "outputs": [
    {
     "data": {
      "text/html": [
       "<div>\n",
       "<style scoped>\n",
       "    .dataframe tbody tr th:only-of-type {\n",
       "        vertical-align: middle;\n",
       "    }\n",
       "\n",
       "    .dataframe tbody tr th {\n",
       "        vertical-align: top;\n",
       "    }\n",
       "\n",
       "    .dataframe thead th {\n",
       "        text-align: right;\n",
       "    }\n",
       "</style>\n",
       "<table border=\"1\" class=\"dataframe\">\n",
       "  <thead>\n",
       "    <tr style=\"text-align: right;\">\n",
       "      <th></th>\n",
       "      <th></th>\n",
       "      <th>SEVERITYCODE</th>\n",
       "    </tr>\n",
       "    <tr>\n",
       "      <th>PEDCYLCOUNT</th>\n",
       "      <th>SEVERITYCODE</th>\n",
       "      <th></th>\n",
       "    </tr>\n",
       "  </thead>\n",
       "  <tbody>\n",
       "    <tr>\n",
       "      <th rowspan=\"2\" valign=\"top\">0</th>\n",
       "      <th>1</th>\n",
       "      <td>0.717832</td>\n",
       "    </tr>\n",
       "    <tr>\n",
       "      <th>2</th>\n",
       "      <td>0.282168</td>\n",
       "    </tr>\n",
       "    <tr>\n",
       "      <th rowspan=\"2\" valign=\"top\">1</th>\n",
       "      <th>2</th>\n",
       "      <td>0.875207</td>\n",
       "    </tr>\n",
       "    <tr>\n",
       "      <th>1</th>\n",
       "      <td>0.124793</td>\n",
       "    </tr>\n",
       "    <tr>\n",
       "      <th>2</th>\n",
       "      <th>2</th>\n",
       "      <td>1.000000</td>\n",
       "    </tr>\n",
       "  </tbody>\n",
       "</table>\n",
       "</div>"
      ],
      "text/plain": [
       "                          SEVERITYCODE\n",
       "PEDCYLCOUNT SEVERITYCODE              \n",
       "0           1                 0.717832\n",
       "            2                 0.282168\n",
       "1           2                 0.875207\n",
       "            1                 0.124793\n",
       "2           2                 1.000000"
      ]
     },
     "execution_count": 239,
     "metadata": {},
     "output_type": "execute_result"
    },
    {
     "data": {
      "image/png": "[encoded data removed]",
      "text/plain": [
       "<Figure size 1296x360 with 2 Axes>"
      ]
     },
     "metadata": {
      "needs_background": "light"
     },
     "output_type": "display_data"
    }
   ],
   "source": [
    "# no missing values or catagorical values to fill or encode use as EDA\n",
    "\n",
    "# graph of PEDCYLCOUNT in relation to SEVERITYCODE\n",
    "fig, ax = plt.subplots(1, 2)\n",
    "fig.set_figheight(5)\n",
    "fig.set_figwidth(18)\n",
    "\n",
    "sn.countplot(data=df, y='PEDCYLCOUNT', hue='SEVERITYCODE', ax=ax[0])\n",
    "sn.pointplot(x=\"SEVERITYCODE\", y=\"PEDCYLCOUNT\", linestyles=[\"--\"], data=df, ax=ax[1])\n",
    "\n",
    "\n",
    "# table of PEDCYLCOUNT in relation to SEVERITYCODE\n",
    "df.groupby(['PEDCYLCOUNT'])['SEVERITYCODE'].value_counts(normalize=True).to_frame()"
   ]
  },
  {
   "cell_type": "markdown",
   "metadata": {},
   "source": [
    "Pretty big difference, .71-.28 vs .12-.8, but we do have to keep in mind that the quantity difference between PEDCYLCOUNT is so big. For example, what if the greater majority of PDCYLCOUNT just isn't recorded. In other words, the sample size maybe isn't large enough to say conclusivly. "
   ]
  },
  {
   "cell_type": "markdown",
   "metadata": {},
   "source": [
    "<h5> HITPARKEDCAR"
   ]
  },
  {
   "cell_type": "code",
   "execution_count": 240,
   "metadata": {},
   "outputs": [
    {
     "data": {
      "text/html": [
       "<div>\n",
       "<style scoped>\n",
       "    .dataframe tbody tr th:only-of-type {\n",
       "        vertical-align: middle;\n",
       "    }\n",
       "\n",
       "    .dataframe tbody tr th {\n",
       "        vertical-align: top;\n",
       "    }\n",
       "\n",
       "    .dataframe thead th {\n",
       "        text-align: right;\n",
       "    }\n",
       "</style>\n",
       "<table border=\"1\" class=\"dataframe\">\n",
       "  <thead>\n",
       "    <tr style=\"text-align: right;\">\n",
       "      <th></th>\n",
       "      <th></th>\n",
       "      <th>SEVERITYCODE</th>\n",
       "    </tr>\n",
       "    <tr>\n",
       "      <th>HITPARKEDCAR</th>\n",
       "      <th>SEVERITYCODE</th>\n",
       "      <th></th>\n",
       "    </tr>\n",
       "  </thead>\n",
       "  <tbody>\n",
       "    <tr>\n",
       "      <th rowspan=\"2\" valign=\"top\">0</th>\n",
       "      <th>1</th>\n",
       "      <td>0.691983</td>\n",
       "    </tr>\n",
       "    <tr>\n",
       "      <th>2</th>\n",
       "      <td>0.308017</td>\n",
       "    </tr>\n",
       "    <tr>\n",
       "      <th rowspan=\"2\" valign=\"top\">1</th>\n",
       "      <th>1</th>\n",
       "      <td>0.937916</td>\n",
       "    </tr>\n",
       "    <tr>\n",
       "      <th>2</th>\n",
       "      <td>0.062084</td>\n",
       "    </tr>\n",
       "  </tbody>\n",
       "</table>\n",
       "</div>"
      ],
      "text/plain": [
       "                           SEVERITYCODE\n",
       "HITPARKEDCAR SEVERITYCODE              \n",
       "0            1                 0.691983\n",
       "             2                 0.308017\n",
       "1            1                 0.937916\n",
       "             2                 0.062084"
      ]
     },
     "execution_count": 240,
     "metadata": {},
     "output_type": "execute_result"
    },
    {
     "data": {
      "image/png": "[encoded data removed]",
      "text/plain": [
       "<Figure size 1296x360 with 2 Axes>"
      ]
     },
     "metadata": {
      "needs_background": "light"
     },
     "output_type": "display_data"
    }
   ],
   "source": [
    "df['HITPARKEDCAR'] = df['HITPARKEDCAR'].replace({'Y': 1, 'N': 0})\n",
    "\n",
    "# graph of HITPARKEDCAR in relation to SEVERITYCODE\n",
    "fig, ax = plt.subplots(1, 2)\n",
    "fig.set_figheight(5)\n",
    "fig.set_figwidth(18)\n",
    "\n",
    "sn.countplot(data=df, y='HITPARKEDCAR', hue='SEVERITYCODE', ax=ax[0])\n",
    "sn.pointplot(x=\"SEVERITYCODE\", y=\"HITPARKEDCAR\", linestyles=[\"--\"], data=df, ax=ax[1])\n",
    "# sn.countplot(data=df, x='HITPARKEDCAR', hue='SEVERITYCODE')\n",
    "\n",
    "# table of HITPARKEDCAR in relation to SEVERITYCODE\n",
    "df.groupby(['HITPARKEDCAR'])['SEVERITYCODE'].value_counts(normalize=True).to_frame()"
   ]
  },
  {
   "cell_type": "markdown",
   "metadata": {},
   "source": [
    "As HITPARKEDCAR increase, the number of property damage increase, pretty big difference and make sense. If you hit a parked car you are more likely to cause property damage than injuries."
   ]
  },
  {
   "cell_type": "markdown",
   "metadata": {},
   "source": [
    "<h5> INCDTTM"
   ]
  },
  {
   "cell_type": "code",
   "execution_count": 241,
   "metadata": {},
   "outputs": [],
   "source": [
    "# split INCDTTM to date time am/pm\n",
    "df[['Date','time', 'am/pm']] = df.INCDTTM.str.split(\" \",expand=True,)\n",
    "# split date into MONTH DATE and YEAR\n",
    "df[['MONTH', 'DATE', 'YEAR']] = df.Date.str.split(\"/\",expand=True,)\n",
    "# we only need MONTH and DATE so we will delete the Date and YEAR\n",
    "df.drop(['Date', 'YEAR'], axis=1, inplace=True)\n",
    "# extra hour out of time\n",
    "df[['HOUR', 'MIN', 'SEC']] = df.time.str.split(\":\",expand=True,)\n",
    "# combine hour and am/pm to form time\n",
    "df['TIME'] = df['HOUR'] + df['am/pm']\n",
    "# delete all the extra columns that we don't need from spliting\n",
    "df.drop(['MIN', 'SEC', 'time', 'am/pm', 'HOUR', 'INCDTTM'], axis=1, inplace=True)"
   ]
  },
  {
   "cell_type": "code",
   "execution_count": 242,
   "metadata": {},
   "outputs": [],
   "source": [
    "# conver to military time for furter preprosesing\n",
    "df['TIME'] = df['TIME'].replace({'1AM': 1, '2AM': 2, '3AM': 3, '4AM': 4, '5AM': 5, '6AM': 6,  \n",
    "                                 '8AM': 8, '9AM': 9, '10AM': 10, '11AM': 11, '12AM': 0,\n",
    "                                 '1PM': 13, '2PM': 14, '3PM': 15, '4PM': 16, '5PM': 17, \n",
    "                                 '6PM': 18, '7PM': 19, '8PM': 20, '9PM': 21, '10PM': 22,\n",
    "                                 '7AM': 7, '11PM': 23, '12PM': 12})\n",
    "\n"
   ]
  },
  {
   "cell_type": "code",
   "execution_count": 243,
   "metadata": {},
   "outputs": [],
   "source": [
    "df['TIME'] = df['TIME'].fillna(17)"
   ]
  },
  {
   "cell_type": "code",
   "execution_count": 244,
   "metadata": {},
   "outputs": [],
   "source": [
    "# encode obj to numeric\n",
    "df['MONTH'] = encoder.fit_transform(pd.to_numeric(df['MONTH'],errors='coerce'))\n",
    "df['DATE'] = encoder.fit_transform(pd.to_numeric(df['DATE'],errors='coerce'))\n",
    "df_code_1 = df[df['SEVERITYCODE'] == 1]\n",
    "df_code_2 = df[df['SEVERITYCODE'] == 2]"
   ]
  },
  {
   "cell_type": "code",
   "execution_count": 245,
   "metadata": {},
   "outputs": [
    {
     "data": {
      "text/plain": [
       "<matplotlib.axes._subplots.AxesSubplot at 0x23e43096b50>"
      ]
     },
     "execution_count": 245,
     "metadata": {},
     "output_type": "execute_result"
    },
    {
     "data": {
      "image/png": "[encoded data removed]",
      "text/plain": [
       "<Figure size 1080x720 with 3 Axes>"
      ]
     },
     "metadata": {
      "needs_background": "light"
     },
     "output_type": "display_data"
    }
   ],
   "source": [
    "fig, ax = plt.subplots(3)\n",
    "fig.set_figheight(10)\n",
    "fig.set_figwidth(15)\n",
    "\n",
    "\n",
    "sn.distplot(df_code_1['TIME'], hist = False, ax=ax[0])\n",
    "sn.distplot(df_code_2['TIME'], hist = False, ax=ax[0])\n",
    "\n",
    "sn.distplot(df_code_1['MONTH'], hist = False, ax=ax[1])\n",
    "sn.distplot(df_code_2['MONTH'], hist = False, ax=ax[1])\n",
    "\n",
    "sn.distplot(df_code_1['DATE'], hist = False, ax=ax[2])\n",
    "sn.distplot(df_code_2['DATE'], hist = False, ax=ax[2])"
   ]
  },
  {
   "cell_type": "code",
   "execution_count": 246,
   "metadata": {},
   "outputs": [
    {
     "data": {
      "text/html": [
       "<div>\n",
       "<style scoped>\n",
       "    .dataframe tbody tr th:only-of-type {\n",
       "        vertical-align: middle;\n",
       "    }\n",
       "\n",
       "    .dataframe tbody tr th {\n",
       "        vertical-align: top;\n",
       "    }\n",
       "\n",
       "    .dataframe thead th {\n",
       "        text-align: right;\n",
       "    }\n",
       "</style>\n",
       "<table border=\"1\" class=\"dataframe\">\n",
       "  <thead>\n",
       "    <tr style=\"text-align: right;\">\n",
       "      <th></th>\n",
       "      <th></th>\n",
       "      <th>SEVERITYCODE</th>\n",
       "    </tr>\n",
       "    <tr>\n",
       "      <th>TIME</th>\n",
       "      <th>SEVERITYCODE</th>\n",
       "      <th></th>\n",
       "    </tr>\n",
       "  </thead>\n",
       "  <tbody>\n",
       "    <tr>\n",
       "      <th rowspan=\"2\" valign=\"top\">0.0</th>\n",
       "      <th>1</th>\n",
       "      <td>0.773800</td>\n",
       "    </tr>\n",
       "    <tr>\n",
       "      <th>2</th>\n",
       "      <td>0.226200</td>\n",
       "    </tr>\n",
       "    <tr>\n",
       "      <th rowspan=\"2\" valign=\"top\">1.0</th>\n",
       "      <th>1</th>\n",
       "      <td>0.756162</td>\n",
       "    </tr>\n",
       "    <tr>\n",
       "      <th>2</th>\n",
       "      <td>0.243838</td>\n",
       "    </tr>\n",
       "    <tr>\n",
       "      <th rowspan=\"2\" valign=\"top\">2.0</th>\n",
       "      <th>1</th>\n",
       "      <td>0.758735</td>\n",
       "    </tr>\n",
       "    <tr>\n",
       "      <th>2</th>\n",
       "      <td>0.241265</td>\n",
       "    </tr>\n",
       "    <tr>\n",
       "      <th rowspan=\"2\" valign=\"top\">3.0</th>\n",
       "      <th>1</th>\n",
       "      <td>0.790390</td>\n",
       "    </tr>\n",
       "    <tr>\n",
       "      <th>2</th>\n",
       "      <td>0.209610</td>\n",
       "    </tr>\n",
       "    <tr>\n",
       "      <th rowspan=\"2\" valign=\"top\">4.0</th>\n",
       "      <th>1</th>\n",
       "      <td>0.777414</td>\n",
       "    </tr>\n",
       "    <tr>\n",
       "      <th>2</th>\n",
       "      <td>0.222586</td>\n",
       "    </tr>\n",
       "    <tr>\n",
       "      <th rowspan=\"2\" valign=\"top\">5.0</th>\n",
       "      <th>1</th>\n",
       "      <td>0.706659</td>\n",
       "    </tr>\n",
       "    <tr>\n",
       "      <th>2</th>\n",
       "      <td>0.293341</td>\n",
       "    </tr>\n",
       "    <tr>\n",
       "      <th rowspan=\"2\" valign=\"top\">6.0</th>\n",
       "      <th>1</th>\n",
       "      <td>0.682088</td>\n",
       "    </tr>\n",
       "    <tr>\n",
       "      <th>2</th>\n",
       "      <td>0.317912</td>\n",
       "    </tr>\n",
       "    <tr>\n",
       "      <th rowspan=\"2\" valign=\"top\">7.0</th>\n",
       "      <th>1</th>\n",
       "      <td>0.670793</td>\n",
       "    </tr>\n",
       "    <tr>\n",
       "      <th>2</th>\n",
       "      <td>0.329207</td>\n",
       "    </tr>\n",
       "    <tr>\n",
       "      <th rowspan=\"2\" valign=\"top\">8.0</th>\n",
       "      <th>1</th>\n",
       "      <td>0.685881</td>\n",
       "    </tr>\n",
       "    <tr>\n",
       "      <th>2</th>\n",
       "      <td>0.314119</td>\n",
       "    </tr>\n",
       "    <tr>\n",
       "      <th rowspan=\"2\" valign=\"top\">9.0</th>\n",
       "      <th>1</th>\n",
       "      <td>0.700695</td>\n",
       "    </tr>\n",
       "    <tr>\n",
       "      <th>2</th>\n",
       "      <td>0.299305</td>\n",
       "    </tr>\n",
       "    <tr>\n",
       "      <th rowspan=\"2\" valign=\"top\">10.0</th>\n",
       "      <th>1</th>\n",
       "      <td>0.713463</td>\n",
       "    </tr>\n",
       "    <tr>\n",
       "      <th>2</th>\n",
       "      <td>0.286537</td>\n",
       "    </tr>\n",
       "    <tr>\n",
       "      <th rowspan=\"2\" valign=\"top\">11.0</th>\n",
       "      <th>1</th>\n",
       "      <td>0.707516</td>\n",
       "    </tr>\n",
       "    <tr>\n",
       "      <th>2</th>\n",
       "      <td>0.292484</td>\n",
       "    </tr>\n",
       "    <tr>\n",
       "      <th rowspan=\"2\" valign=\"top\">12.0</th>\n",
       "      <th>1</th>\n",
       "      <td>0.712442</td>\n",
       "    </tr>\n",
       "    <tr>\n",
       "      <th>2</th>\n",
       "      <td>0.287558</td>\n",
       "    </tr>\n",
       "    <tr>\n",
       "      <th rowspan=\"2\" valign=\"top\">13.0</th>\n",
       "      <th>1</th>\n",
       "      <td>0.698111</td>\n",
       "    </tr>\n",
       "    <tr>\n",
       "      <th>2</th>\n",
       "      <td>0.301889</td>\n",
       "    </tr>\n",
       "    <tr>\n",
       "      <th rowspan=\"2\" valign=\"top\">14.0</th>\n",
       "      <th>1</th>\n",
       "      <td>0.682525</td>\n",
       "    </tr>\n",
       "    <tr>\n",
       "      <th>2</th>\n",
       "      <td>0.317475</td>\n",
       "    </tr>\n",
       "    <tr>\n",
       "      <th rowspan=\"2\" valign=\"top\">15.0</th>\n",
       "      <th>1</th>\n",
       "      <td>0.675091</td>\n",
       "    </tr>\n",
       "    <tr>\n",
       "      <th>2</th>\n",
       "      <td>0.324909</td>\n",
       "    </tr>\n",
       "    <tr>\n",
       "      <th rowspan=\"2\" valign=\"top\">16.0</th>\n",
       "      <th>1</th>\n",
       "      <td>0.669032</td>\n",
       "    </tr>\n",
       "    <tr>\n",
       "      <th>2</th>\n",
       "      <td>0.330968</td>\n",
       "    </tr>\n",
       "    <tr>\n",
       "      <th rowspan=\"2\" valign=\"top\">17.0</th>\n",
       "      <th>1</th>\n",
       "      <td>0.703770</td>\n",
       "    </tr>\n",
       "    <tr>\n",
       "      <th>2</th>\n",
       "      <td>0.296230</td>\n",
       "    </tr>\n",
       "    <tr>\n",
       "      <th rowspan=\"2\" valign=\"top\">18.0</th>\n",
       "      <th>1</th>\n",
       "      <td>0.658011</td>\n",
       "    </tr>\n",
       "    <tr>\n",
       "      <th>2</th>\n",
       "      <td>0.341989</td>\n",
       "    </tr>\n",
       "    <tr>\n",
       "      <th rowspan=\"2\" valign=\"top\">19.0</th>\n",
       "      <th>1</th>\n",
       "      <td>0.684813</td>\n",
       "    </tr>\n",
       "    <tr>\n",
       "      <th>2</th>\n",
       "      <td>0.315187</td>\n",
       "    </tr>\n",
       "    <tr>\n",
       "      <th rowspan=\"2\" valign=\"top\">20.0</th>\n",
       "      <th>1</th>\n",
       "      <td>0.719371</td>\n",
       "    </tr>\n",
       "    <tr>\n",
       "      <th>2</th>\n",
       "      <td>0.280629</td>\n",
       "    </tr>\n",
       "    <tr>\n",
       "      <th rowspan=\"2\" valign=\"top\">21.0</th>\n",
       "      <th>1</th>\n",
       "      <td>0.709747</td>\n",
       "    </tr>\n",
       "    <tr>\n",
       "      <th>2</th>\n",
       "      <td>0.290253</td>\n",
       "    </tr>\n",
       "    <tr>\n",
       "      <th rowspan=\"2\" valign=\"top\">22.0</th>\n",
       "      <th>1</th>\n",
       "      <td>0.721105</td>\n",
       "    </tr>\n",
       "    <tr>\n",
       "      <th>2</th>\n",
       "      <td>0.278895</td>\n",
       "    </tr>\n",
       "    <tr>\n",
       "      <th rowspan=\"2\" valign=\"top\">23.0</th>\n",
       "      <th>1</th>\n",
       "      <td>0.759488</td>\n",
       "    </tr>\n",
       "    <tr>\n",
       "      <th>2</th>\n",
       "      <td>0.240512</td>\n",
       "    </tr>\n",
       "  </tbody>\n",
       "</table>\n",
       "</div>"
      ],
      "text/plain": [
       "                   SEVERITYCODE\n",
       "TIME SEVERITYCODE              \n",
       "0.0  1                 0.773800\n",
       "     2                 0.226200\n",
       "1.0  1                 0.756162\n",
       "     2                 0.243838\n",
       "2.0  1                 0.758735\n",
       "     2                 0.241265\n",
       "3.0  1                 0.790390\n",
       "     2                 0.209610\n",
       "4.0  1                 0.777414\n",
       "     2                 0.222586\n",
       "5.0  1                 0.706659\n",
       "     2                 0.293341\n",
       "6.0  1                 0.682088\n",
       "     2                 0.317912\n",
       "7.0  1                 0.670793\n",
       "     2                 0.329207\n",
       "8.0  1                 0.685881\n",
       "     2                 0.314119\n",
       "9.0  1                 0.700695\n",
       "     2                 0.299305\n",
       "10.0 1                 0.713463\n",
       "     2                 0.286537\n",
       "11.0 1                 0.707516\n",
       "     2                 0.292484\n",
       "12.0 1                 0.712442\n",
       "     2                 0.287558\n",
       "13.0 1                 0.698111\n",
       "     2                 0.301889\n",
       "14.0 1                 0.682525\n",
       "     2                 0.317475\n",
       "15.0 1                 0.675091\n",
       "     2                 0.324909\n",
       "16.0 1                 0.669032\n",
       "     2                 0.330968\n",
       "17.0 1                 0.703770\n",
       "     2                 0.296230\n",
       "18.0 1                 0.658011\n",
       "     2                 0.341989\n",
       "19.0 1                 0.684813\n",
       "     2                 0.315187\n",
       "20.0 1                 0.719371\n",
       "     2                 0.280629\n",
       "21.0 1                 0.709747\n",
       "     2                 0.290253\n",
       "22.0 1                 0.721105\n",
       "     2                 0.278895\n",
       "23.0 1                 0.759488\n",
       "     2                 0.240512"
      ]
     },
     "execution_count": 246,
     "metadata": {},
     "output_type": "execute_result"
    }
   ],
   "source": [
    "# graph of time(hours) in relation to SEVERITYCODE\n",
    "df.groupby(['TIME'])['SEVERITYCODE'].value_counts(normalize=True).to_frame()"
   ]
  },
  {
   "cell_type": "markdown",
   "metadata": {},
   "source": [
    "No obvious difference, but maybe machine can find something."
   ]
  },
  {
   "cell_type": "code",
   "execution_count": 247,
   "metadata": {},
   "outputs": [
    {
     "data": {
      "text/html": [
       "<div>\n",
       "<style scoped>\n",
       "    .dataframe tbody tr th:only-of-type {\n",
       "        vertical-align: middle;\n",
       "    }\n",
       "\n",
       "    .dataframe tbody tr th {\n",
       "        vertical-align: top;\n",
       "    }\n",
       "\n",
       "    .dataframe thead th {\n",
       "        text-align: right;\n",
       "    }\n",
       "</style>\n",
       "<table border=\"1\" class=\"dataframe\">\n",
       "  <thead>\n",
       "    <tr style=\"text-align: right;\">\n",
       "      <th></th>\n",
       "      <th></th>\n",
       "      <th>SEVERITYCODE</th>\n",
       "    </tr>\n",
       "    <tr>\n",
       "      <th>MONTH</th>\n",
       "      <th>SEVERITYCODE</th>\n",
       "      <th></th>\n",
       "    </tr>\n",
       "  </thead>\n",
       "  <tbody>\n",
       "    <tr>\n",
       "      <th rowspan=\"2\" valign=\"top\">0</th>\n",
       "      <th>1</th>\n",
       "      <td>0.713354</td>\n",
       "    </tr>\n",
       "    <tr>\n",
       "      <th>2</th>\n",
       "      <td>0.286646</td>\n",
       "    </tr>\n",
       "    <tr>\n",
       "      <th rowspan=\"2\" valign=\"top\">1</th>\n",
       "      <th>1</th>\n",
       "      <td>0.715288</td>\n",
       "    </tr>\n",
       "    <tr>\n",
       "      <th>2</th>\n",
       "      <td>0.284712</td>\n",
       "    </tr>\n",
       "    <tr>\n",
       "      <th rowspan=\"2\" valign=\"top\">2</th>\n",
       "      <th>1</th>\n",
       "      <td>0.706811</td>\n",
       "    </tr>\n",
       "    <tr>\n",
       "      <th>2</th>\n",
       "      <td>0.293189</td>\n",
       "    </tr>\n",
       "    <tr>\n",
       "      <th rowspan=\"2\" valign=\"top\">3</th>\n",
       "      <th>1</th>\n",
       "      <td>0.701965</td>\n",
       "    </tr>\n",
       "    <tr>\n",
       "      <th>2</th>\n",
       "      <td>0.298035</td>\n",
       "    </tr>\n",
       "    <tr>\n",
       "      <th rowspan=\"2\" valign=\"top\">4</th>\n",
       "      <th>1</th>\n",
       "      <td>0.690032</td>\n",
       "    </tr>\n",
       "    <tr>\n",
       "      <th>2</th>\n",
       "      <td>0.309968</td>\n",
       "    </tr>\n",
       "    <tr>\n",
       "      <th rowspan=\"2\" valign=\"top\">5</th>\n",
       "      <th>1</th>\n",
       "      <td>0.702523</td>\n",
       "    </tr>\n",
       "    <tr>\n",
       "      <th>2</th>\n",
       "      <td>0.297477</td>\n",
       "    </tr>\n",
       "    <tr>\n",
       "      <th rowspan=\"2\" valign=\"top\">6</th>\n",
       "      <th>1</th>\n",
       "      <td>0.686079</td>\n",
       "    </tr>\n",
       "    <tr>\n",
       "      <th>2</th>\n",
       "      <td>0.313921</td>\n",
       "    </tr>\n",
       "    <tr>\n",
       "      <th rowspan=\"2\" valign=\"top\">7</th>\n",
       "      <th>1</th>\n",
       "      <td>0.688144</td>\n",
       "    </tr>\n",
       "    <tr>\n",
       "      <th>2</th>\n",
       "      <td>0.311856</td>\n",
       "    </tr>\n",
       "    <tr>\n",
       "      <th rowspan=\"2\" valign=\"top\">8</th>\n",
       "      <th>1</th>\n",
       "      <td>0.696735</td>\n",
       "    </tr>\n",
       "    <tr>\n",
       "      <th>2</th>\n",
       "      <td>0.303265</td>\n",
       "    </tr>\n",
       "    <tr>\n",
       "      <th rowspan=\"2\" valign=\"top\">9</th>\n",
       "      <th>1</th>\n",
       "      <td>0.690736</td>\n",
       "    </tr>\n",
       "    <tr>\n",
       "      <th>2</th>\n",
       "      <td>0.309264</td>\n",
       "    </tr>\n",
       "    <tr>\n",
       "      <th rowspan=\"2\" valign=\"top\">10</th>\n",
       "      <th>1</th>\n",
       "      <td>0.704559</td>\n",
       "    </tr>\n",
       "    <tr>\n",
       "      <th>2</th>\n",
       "      <td>0.295441</td>\n",
       "    </tr>\n",
       "    <tr>\n",
       "      <th rowspan=\"2\" valign=\"top\">11</th>\n",
       "      <th>1</th>\n",
       "      <td>0.720618</td>\n",
       "    </tr>\n",
       "    <tr>\n",
       "      <th>2</th>\n",
       "      <td>0.279382</td>\n",
       "    </tr>\n",
       "  </tbody>\n",
       "</table>\n",
       "</div>"
      ],
      "text/plain": [
       "                    SEVERITYCODE\n",
       "MONTH SEVERITYCODE              \n",
       "0     1                 0.713354\n",
       "      2                 0.286646\n",
       "1     1                 0.715288\n",
       "      2                 0.284712\n",
       "2     1                 0.706811\n",
       "      2                 0.293189\n",
       "3     1                 0.701965\n",
       "      2                 0.298035\n",
       "4     1                 0.690032\n",
       "      2                 0.309968\n",
       "5     1                 0.702523\n",
       "      2                 0.297477\n",
       "6     1                 0.686079\n",
       "      2                 0.313921\n",
       "7     1                 0.688144\n",
       "      2                 0.311856\n",
       "8     1                 0.696735\n",
       "      2                 0.303265\n",
       "9     1                 0.690736\n",
       "      2                 0.309264\n",
       "10    1                 0.704559\n",
       "      2                 0.295441\n",
       "11    1                 0.720618\n",
       "      2                 0.279382"
      ]
     },
     "execution_count": 247,
     "metadata": {},
     "output_type": "execute_result"
    }
   ],
   "source": [
    "df.groupby(['MONTH'])['SEVERITYCODE'].value_counts(normalize=True).to_frame()"
   ]
  },
  {
   "cell_type": "markdown",
   "metadata": {},
   "source": [
    "Not much difference in ratio, initally I thought there would be a huge corrolation between date, month, hours and severitycode. The reality is that there is very little."
   ]
  },
  {
   "cell_type": "markdown",
   "metadata": {},
   "source": [
    "# 5. Feature Selection via:\n",
    "    I. Univariate Selection\n",
    "    II. Feature Importance"
   ]
  },
  {
   "cell_type": "code",
   "execution_count": 257,
   "metadata": {},
   "outputs": [],
   "source": [
    "X = df.iloc[:,0:20]  #independent columns\n",
    "y = df.iloc[:,-1]    #target column \n",
    "X.drop(columns=['X'], inplace=True)"
   ]
  },
  {
   "cell_type": "code",
   "execution_count": 258,
   "metadata": {},
   "outputs": [],
   "source": [
    "# Encode all nominal catagorical data\n",
    "X = pd.get_dummies(X, columns=['STATUS','COLLISIONTYPE', 'ST_COLCODE', 'JUNCTIONTYPE', 'SDOT_COLCODE', 'PEDCOUNT', \n",
    "                               'PERSONCOUNT', 'ROADCOND', 'ADDRTYPE', 'PEDCYLCOUNT', 'VEHCOUNT', 'UNDERINFL', 'WEATHER',\n",
    "                               'WEATHER', 'LIGHTCOND', 'HITPARKEDCAR'])"
   ]
  },
  {
   "cell_type": "code",
   "execution_count": null,
   "metadata": {},
   "outputs": [],
   "source": []
  },
  {
   "cell_type": "markdown",
   "metadata": {},
   "source": [
    "**I. Univariate Selection**"
   ]
  },
  {
   "cell_type": "code",
   "execution_count": 259,
   "metadata": {},
   "outputs": [
    {
     "name": "stdout",
     "output_type": "stream",
     "text": [
      "            Specs          Score\n",
      "3            DATE  127876.506288\n",
      "81    LIGHTCOND_1   66994.476902\n",
      "83    LIGHTCOND_3   33621.965496\n",
      "82    LIGHTCOND_2   21544.618910\n",
      "4        STATUS_0   16988.136558\n",
      "16   ST_COLCODE_0   16966.768585\n",
      "64     VEHCOUNT_0   16180.687630\n",
      "71    UNDERINFL_1   14041.748142\n",
      "84    LIGHTCOND_4    8482.142222\n",
      "26  ST_COLCODE_10    7654.251372\n"
     ]
    }
   ],
   "source": [
    "from sklearn.feature_selection import SelectKBest\n",
    "from sklearn.feature_selection import chi2\n",
    "\n",
    "#apply SelectKBest class to extract top 10 best features\n",
    "bestfeatures = SelectKBest(score_func=chi2, k=10)\n",
    "fit = bestfeatures.fit(X,y)\n",
    "dfscores = pd.DataFrame(fit.scores_)\n",
    "dfcolumns = pd.DataFrame(X.columns)\n",
    "#concat two dataframes for better visualization \n",
    "featureScores = pd.concat([dfcolumns,dfscores],axis=1)\n",
    "featureScores.columns = ['Specs','Score']  #naming the dataframe columns\n",
    "print(featureScores.nlargest(10,'Score'))  #print 10 best features"
   ]
  },
  {
   "cell_type": "markdown",
   "metadata": {},
   "source": [
    "**II. Feature Importance**"
   ]
  },
  {
   "cell_type": "code",
   "execution_count": 260,
   "metadata": {},
   "outputs": [
    {
     "name": "stdout",
     "output_type": "stream",
     "text": [
      "[2.73683464e-02 3.29746532e-01 1.59490518e-01 2.43135496e-01\n",
      " 4.40967196e-03 4.78067185e-03 2.04610450e-03 4.35724047e-04\n",
      " 1.73362228e-03 2.32829155e-03 3.08342064e-03 3.03097909e-03\n",
      " 3.74645925e-04 2.03479547e-03 1.98709170e-03 3.60669161e-03\n",
      " 3.37924034e-03 2.04889965e-03 2.19071941e-03 2.54614953e-03\n",
      " 2.74407048e-03 1.16721677e-03 1.26465138e-03 1.58713594e-03\n",
      " 5.24769821e-03 5.62810848e-04 1.20152836e-03 1.61639771e-03\n",
      " 3.39336625e-03 3.73057445e-03 3.48129430e-04 5.22107624e-03\n",
      " 6.72751514e-03 3.65684024e-03 9.19606012e-03 1.23546855e-03\n",
      " 2.51956378e-03 8.04846153e-03 1.57341106e-03 4.24168594e-03\n",
      " 8.57507131e-04 6.15494786e-04 1.70529723e-03 1.83687808e-03\n",
      " 6.81512998e-04 7.47637393e-04 2.03460202e-04 4.38211103e-05\n",
      " 3.61905473e-03 1.90750034e-03 9.79158270e-03 1.06222840e-02\n",
      " 7.79494314e-03 5.24902974e-03 4.19211759e-03 4.49778408e-03\n",
      " 4.23572061e-03 2.63780064e-03 3.31382134e-03 3.00800427e-03\n",
      " 6.39478332e-04 4.47733451e-04 4.57535851e-04 4.95212145e-05\n",
      " 3.88269237e-03 1.33630464e-03 5.56290288e-03 4.39378852e-03\n",
      " 1.88512016e-03 8.48669512e-04 2.02683366e-03 1.94594012e-03\n",
      " 1.63929467e-03 1.92864250e-03 1.15638062e-03 1.52500958e-03\n",
      " 1.72572251e-03 1.87777618e-03 1.16764198e-03 1.54128869e-03\n",
      " 1.40754742e-03 9.87211917e-03 2.64201520e-03 1.04757538e-02\n",
      " 2.59577594e-03 1.38108584e-03 1.44804097e-03 1.53685775e-03]\n"
     ]
    },
    {
     "data": {
      "image/png": "[encoded data removed]",
      "text/plain": [
       "<Figure size 432x288 with 1 Axes>"
      ]
     },
     "metadata": {
      "needs_background": "light"
     },
     "output_type": "display_data"
    }
   ],
   "source": [
    "from sklearn.ensemble import ExtraTreesClassifier\n",
    "\n",
    "model = ExtraTreesClassifier()\n",
    "model.fit(X,y)\n",
    "print(model.feature_importances_) #use inbuilt class feature_importances of tree based classifiers\n",
    "#plot graph of feature importances for better visualization\n",
    "feat_importances = pd.Series(model.feature_importances_, index=X.columns)\n",
    "feat_importances.nlargest(10).plot(kind='barh')\n",
    "plt.show()"
   ]
  },
  {
   "cell_type": "markdown",
   "metadata": {},
   "source": [
    "# 6. Model Building"
   ]
  },
  {
   "cell_type": "code",
   "execution_count": 261,
   "metadata": {},
   "outputs": [
    {
     "data": {
      "text/plain": [
       "(155738, 21)"
      ]
     },
     "metadata": {},
     "output_type": "display_data"
    },
    {
     "data": {
      "text/plain": [
       "(38935, 21)"
      ]
     },
     "metadata": {},
     "output_type": "display_data"
    }
   ],
   "source": [
    "# spliting train test data\n",
    "df_train = df.sample(frac = 0.8) \n",
    "df_test = df.drop(df_train.index)\n",
    "\n",
    "display(df_train.shape)\n",
    "display(df_test.shape)"
   ]
  },
  {
   "cell_type": "code",
   "execution_count": 262,
   "metadata": {},
   "outputs": [],
   "source": [
    "df_train = pd.get_dummies(df_train, columns=['STATUS','COLLISIONTYPE', 'ST_COLCODE', 'JUNCTIONTYPE', 'SDOT_COLCODE', 'PEDCOUNT', \n",
    "                               'PERSONCOUNT', 'ROADCOND', 'ADDRTYPE', 'PEDCYLCOUNT', 'VEHCOUNT', 'UNDERINFL', 'WEATHER',\n",
    "                               'WEATHER', 'LIGHTCOND', 'HITPARKEDCAR'])"
   ]
  },
  {
   "cell_type": "code",
   "execution_count": 263,
   "metadata": {},
   "outputs": [],
   "source": [
    "df_test = pd.get_dummies(df_test, columns=['STATUS','COLLISIONTYPE', 'ST_COLCODE', 'JUNCTIONTYPE', 'SDOT_COLCODE', 'PEDCOUNT', \n",
    "                               'PERSONCOUNT', 'ROADCOND', 'ADDRTYPE', 'PEDCYLCOUNT', 'VEHCOUNT', 'UNDERINFL', 'WEATHER',\n",
    "                               'WEATHER', 'LIGHTCOND', 'HITPARKEDCAR'])"
   ]
  },
  {
   "cell_type": "code",
   "execution_count": 264,
   "metadata": {},
   "outputs": [
    {
     "data": {
      "text/html": [
       "<div>\n",
       "<style scoped>\n",
       "    .dataframe tbody tr th:only-of-type {\n",
       "        vertical-align: middle;\n",
       "    }\n",
       "\n",
       "    .dataframe tbody tr th {\n",
       "        vertical-align: top;\n",
       "    }\n",
       "\n",
       "    .dataframe thead th {\n",
       "        text-align: right;\n",
       "    }\n",
       "</style>\n",
       "<table border=\"1\" class=\"dataframe\">\n",
       "  <thead>\n",
       "    <tr style=\"text-align: right;\">\n",
       "      <th></th>\n",
       "      <th>DATE</th>\n",
       "      <th>LIGHTCOND_1</th>\n",
       "      <th>LIGHTCOND_3</th>\n",
       "      <th>LIGHTCOND_2</th>\n",
       "      <th>STATUS_0</th>\n",
       "      <th>ST_COLCODE_0</th>\n",
       "      <th>VEHCOUNT_0</th>\n",
       "      <th>UNDERINFL_1</th>\n",
       "      <th>LIGHTCOND_4</th>\n",
       "      <th>ST_COLCODE_10</th>\n",
       "    </tr>\n",
       "  </thead>\n",
       "  <tbody>\n",
       "    <tr>\n",
       "      <th>6895</th>\n",
       "      <td>12</td>\n",
       "      <td>1</td>\n",
       "      <td>0</td>\n",
       "      <td>0</td>\n",
       "      <td>0</td>\n",
       "      <td>0</td>\n",
       "      <td>0</td>\n",
       "      <td>0</td>\n",
       "      <td>0</td>\n",
       "      <td>0</td>\n",
       "    </tr>\n",
       "    <tr>\n",
       "      <th>99077</th>\n",
       "      <td>20</td>\n",
       "      <td>1</td>\n",
       "      <td>0</td>\n",
       "      <td>0</td>\n",
       "      <td>0</td>\n",
       "      <td>0</td>\n",
       "      <td>0</td>\n",
       "      <td>0</td>\n",
       "      <td>0</td>\n",
       "      <td>0</td>\n",
       "    </tr>\n",
       "    <tr>\n",
       "      <th>87482</th>\n",
       "      <td>17</td>\n",
       "      <td>1</td>\n",
       "      <td>0</td>\n",
       "      <td>0</td>\n",
       "      <td>0</td>\n",
       "      <td>0</td>\n",
       "      <td>0</td>\n",
       "      <td>0</td>\n",
       "      <td>0</td>\n",
       "      <td>0</td>\n",
       "    </tr>\n",
       "    <tr>\n",
       "      <th>154801</th>\n",
       "      <td>1</td>\n",
       "      <td>0</td>\n",
       "      <td>1</td>\n",
       "      <td>0</td>\n",
       "      <td>0</td>\n",
       "      <td>0</td>\n",
       "      <td>0</td>\n",
       "      <td>0</td>\n",
       "      <td>0</td>\n",
       "      <td>0</td>\n",
       "    </tr>\n",
       "    <tr>\n",
       "      <th>35259</th>\n",
       "      <td>27</td>\n",
       "      <td>1</td>\n",
       "      <td>0</td>\n",
       "      <td>0</td>\n",
       "      <td>0</td>\n",
       "      <td>0</td>\n",
       "      <td>0</td>\n",
       "      <td>0</td>\n",
       "      <td>0</td>\n",
       "      <td>1</td>\n",
       "    </tr>\n",
       "    <tr>\n",
       "      <th>...</th>\n",
       "      <td>...</td>\n",
       "      <td>...</td>\n",
       "      <td>...</td>\n",
       "      <td>...</td>\n",
       "      <td>...</td>\n",
       "      <td>...</td>\n",
       "      <td>...</td>\n",
       "      <td>...</td>\n",
       "      <td>...</td>\n",
       "      <td>...</td>\n",
       "    </tr>\n",
       "    <tr>\n",
       "      <th>108366</th>\n",
       "      <td>5</td>\n",
       "      <td>1</td>\n",
       "      <td>0</td>\n",
       "      <td>0</td>\n",
       "      <td>0</td>\n",
       "      <td>0</td>\n",
       "      <td>0</td>\n",
       "      <td>0</td>\n",
       "      <td>0</td>\n",
       "      <td>0</td>\n",
       "    </tr>\n",
       "    <tr>\n",
       "      <th>55500</th>\n",
       "      <td>11</td>\n",
       "      <td>0</td>\n",
       "      <td>1</td>\n",
       "      <td>0</td>\n",
       "      <td>0</td>\n",
       "      <td>0</td>\n",
       "      <td>0</td>\n",
       "      <td>0</td>\n",
       "      <td>0</td>\n",
       "      <td>0</td>\n",
       "    </tr>\n",
       "    <tr>\n",
       "      <th>70756</th>\n",
       "      <td>20</td>\n",
       "      <td>0</td>\n",
       "      <td>1</td>\n",
       "      <td>0</td>\n",
       "      <td>0</td>\n",
       "      <td>0</td>\n",
       "      <td>0</td>\n",
       "      <td>0</td>\n",
       "      <td>0</td>\n",
       "      <td>0</td>\n",
       "    </tr>\n",
       "    <tr>\n",
       "      <th>21700</th>\n",
       "      <td>3</td>\n",
       "      <td>0</td>\n",
       "      <td>1</td>\n",
       "      <td>0</td>\n",
       "      <td>0</td>\n",
       "      <td>0</td>\n",
       "      <td>0</td>\n",
       "      <td>0</td>\n",
       "      <td>0</td>\n",
       "      <td>0</td>\n",
       "    </tr>\n",
       "    <tr>\n",
       "      <th>177381</th>\n",
       "      <td>29</td>\n",
       "      <td>0</td>\n",
       "      <td>1</td>\n",
       "      <td>0</td>\n",
       "      <td>0</td>\n",
       "      <td>0</td>\n",
       "      <td>0</td>\n",
       "      <td>0</td>\n",
       "      <td>0</td>\n",
       "      <td>0</td>\n",
       "    </tr>\n",
       "  </tbody>\n",
       "</table>\n",
       "<p>155738 rows × 10 columns</p>\n",
       "</div>"
      ],
      "text/plain": [
       "        DATE  LIGHTCOND_1  LIGHTCOND_3  LIGHTCOND_2  STATUS_0  ST_COLCODE_0  \\\n",
       "6895      12            1            0            0         0             0   \n",
       "99077     20            1            0            0         0             0   \n",
       "87482     17            1            0            0         0             0   \n",
       "154801     1            0            1            0         0             0   \n",
       "35259     27            1            0            0         0             0   \n",
       "...      ...          ...          ...          ...       ...           ...   \n",
       "108366     5            1            0            0         0             0   \n",
       "55500     11            0            1            0         0             0   \n",
       "70756     20            0            1            0         0             0   \n",
       "21700      3            0            1            0         0             0   \n",
       "177381    29            0            1            0         0             0   \n",
       "\n",
       "        VEHCOUNT_0  UNDERINFL_1  LIGHTCOND_4  ST_COLCODE_10  \n",
       "6895             0            0            0              0  \n",
       "99077            0            0            0              0  \n",
       "87482            0            0            0              0  \n",
       "154801           0            0            0              0  \n",
       "35259            0            0            0              1  \n",
       "...            ...          ...          ...            ...  \n",
       "108366           0            0            0              0  \n",
       "55500            0            0            0              0  \n",
       "70756            0            0            0              0  \n",
       "21700            0            0            0              0  \n",
       "177381           0            0            0              0  \n",
       "\n",
       "[155738 rows x 10 columns]"
      ]
     },
     "execution_count": 264,
     "metadata": {},
     "output_type": "execute_result"
    }
   ],
   "source": [
    "# features selected via Feature Importance method\n",
    "\n",
    "# feature_selected = df_train[['SDOT_COLCODE_14', 'Y', 'SDOT_COLCODE_11', 'LIGHTCOND_1', 'LIGHTCOND_3', \n",
    "#                              'PERSONCOUNT_2', 'PERSONCOUNT_3', 'MONTH', 'DATE']]\n",
    "\n",
    "# feature selected via Univariate Selection\n",
    "feature_selected = df_train[['DATE', 'LIGHTCOND_1', 'LIGHTCOND_3', 'LIGHTCOND_2', 'STATUS_0', \n",
    "                              'ST_COLCODE_0', 'VEHCOUNT_0', 'UNDERINFL_1', 'LIGHTCOND_4', 'ST_COLCODE_10']]\n",
    "\n",
    "\n",
    "feature_selected"
   ]
  },
  {
   "cell_type": "code",
   "execution_count": 265,
   "metadata": {},
   "outputs": [
    {
     "data": {
      "text/plain": [
       "array([1, 1, 2, 1, 1], dtype=int64)"
      ]
     },
     "execution_count": 265,
     "metadata": {},
     "output_type": "execute_result"
    }
   ],
   "source": [
    "# training answers\n",
    "y = df_train['SEVERITYCODE'].values\n",
    "y[0:5]"
   ]
  },
  {
   "cell_type": "code",
   "execution_count": 266,
   "metadata": {},
   "outputs": [
    {
     "data": {
      "text/plain": [
       "array([[-0.29633437,  1.73245128, -1.28431365, -0.11469145, -0.16007647,\n",
       "        -0.16007647, -0.16339994, -0.22201776, -0.17711763, -0.27401783],\n",
       "       [ 0.61294369,  1.73245128, -1.28431365, -0.11469145, -0.16007647,\n",
       "        -0.16007647, -0.16339994, -0.22201776, -0.17711763, -0.27401783],\n",
       "       [ 0.27196442,  1.73245128, -1.28431365, -0.11469145, -0.16007647,\n",
       "        -0.16007647, -0.16339994, -0.22201776, -0.17711763, -0.27401783],\n",
       "       [-1.5465917 , -0.57721681,  0.778626  , -0.11469145, -0.16007647,\n",
       "        -0.16007647, -0.16339994, -0.22201776, -0.17711763, -0.27401783],\n",
       "       [ 1.408562  ,  1.73245128, -1.28431365, -0.11469145, -0.16007647,\n",
       "        -0.16007647, -0.16339994, -0.22201776, -0.17711763,  3.64939754]])"
      ]
     },
     "execution_count": 266,
     "metadata": {},
     "output_type": "execute_result"
    }
   ],
   "source": [
    "from sklearn import preprocessing\n",
    "\n",
    "X = feature_selected\n",
    "X= preprocessing.StandardScaler().fit(X).transform(X)\n",
    "X[0:5]"
   ]
  },
  {
   "cell_type": "markdown",
   "metadata": {},
   "source": [
    "<h3>Classification via: </h3> \n",
    "K Nearest Neighbor(KNN) <br/>\n",
    "Decision Tree <br/>\n",
    "Support Vector Machine <br/>\n",
    "Logistic Regression"
   ]
  },
  {
   "cell_type": "code",
   "execution_count": 267,
   "metadata": {},
   "outputs": [],
   "source": [
    "from sklearn.model_selection import train_test_split\n",
    "from sklearn.model_selection import cross_val_score"
   ]
  },
  {
   "cell_type": "markdown",
   "metadata": {},
   "source": [
    "KNN"
   ]
  },
  {
   "cell_type": "code",
   "execution_count": 268,
   "metadata": {},
   "outputs": [
    {
     "data": {
      "text/plain": [
       "KNeighborsClassifier()"
      ]
     },
     "execution_count": 268,
     "metadata": {},
     "output_type": "execute_result"
    }
   ],
   "source": [
    "from sklearn.neighbors import KNeighborsClassifier\n",
    "\n",
    "X_train, X_test, y_train, y_test = train_test_split(X, y, test_size=0.20)\n",
    "\n",
    "KNN_model = KNeighborsClassifier()\n",
    "KNN_model.fit(X_train, y_train)"
   ]
  },
  {
   "cell_type": "code",
   "execution_count": 269,
   "metadata": {},
   "outputs": [
    {
     "data": {
      "text/plain": [
       "0.6640875818672146"
      ]
     },
     "execution_count": 269,
     "metadata": {},
     "output_type": "execute_result"
    }
   ],
   "source": [
    "# test the model\n",
    "KNN_model.score(X_test, y_test)"
   ]
  },
  {
   "cell_type": "code",
   "execution_count": 270,
   "metadata": {},
   "outputs": [
    {
     "name": "stdout",
     "output_type": "stream",
     "text": [
      "Accuracy: 0.62 (+/- 0.01)\n"
     ]
    }
   ],
   "source": [
    "scores = cross_val_score(KNN_model, X, y, cv=5)\n",
    "print(\"Accuracy: %0.2f (+/- %0.2f)\" % (scores.mean(), scores.std() * 2))"
   ]
  },
  {
   "cell_type": "markdown",
   "metadata": {},
   "source": [
    "Let's see if we can do better with different parameter n that is build in KNN model."
   ]
  },
  {
   "cell_type": "code",
   "execution_count": 64,
   "metadata": {},
   "outputs": [
    {
     "name": "stderr",
     "output_type": "stream",
     "text": [
      "<ipython-input-64-5dbd9cf631cb>:4: DeprecationWarning: The default dtype for empty Series will be 'object' instead of 'float64' in a future version. Specify a dtype explicitly to silence this warning.\n",
      "  a=pd.Series()\n"
     ]
    },
    {
     "data": {
      "image/png": "[encoded data removed]",
      "text/plain": [
       "<Figure size 864x432 with 1 Axes>"
      ]
     },
     "metadata": {
      "needs_background": "light"
     },
     "output_type": "display_data"
    },
    {
     "name": "stdout",
     "output_type": "stream",
     "text": [
      "Accuracies for different values of n are: [0.69505586 0.73763966 0.71234108 0.73160396 0.7186593  0.72934378\n",
      " 0.72464364 0.73144985 0.72800822 0.7374085 ] with the max value as  0.7376396558366508\n"
     ]
    }
   ],
   "source": [
    "from sklearn import metrics\n",
    "\n",
    "a_index=list(range(1,11))\n",
    "a=pd.Series()\n",
    "x=[0,1,2,3,4,5,6,7,8,9,10]\n",
    "for i in list(range(1,11)):\n",
    "    KNN_model=KNeighborsClassifier(n_neighbors=i) \n",
    "    KNN_model.fit(X_train, y_train)\n",
    "    prediction=KNN_model.predict(test_Feature)\n",
    "    a=a.append(pd.Series(metrics.accuracy_score(prediction,y_true)))\n",
    "plt.plot(a_index, a)\n",
    "plt.xticks(x)\n",
    "fig=plt.gcf()\n",
    "fig.set_size_inches(12,6)\n",
    "plt.show()\n",
    "print('Accuracies for different values of n are:',a.values,'with the max value as ',a.values.max())"
   ]
  },
  {
   "cell_type": "markdown",
   "metadata": {},
   "source": [
    "Decision Tree"
   ]
  },
  {
   "cell_type": "code",
   "execution_count": 271,
   "metadata": {},
   "outputs": [
    {
     "data": {
      "text/plain": [
       "DecisionTreeClassifier()"
      ]
     },
     "execution_count": 271,
     "metadata": {},
     "output_type": "execute_result"
    }
   ],
   "source": [
    "from sklearn import tree\n",
    "\n",
    "X_train, X_test, y_train, y_test = train_test_split(X, y, test_size=0.20)\n",
    "\n",
    "# train the model\n",
    "tree_model = tree.DecisionTreeClassifier()\n",
    "tree_model.fit(X_train, y_train)"
   ]
  },
  {
   "cell_type": "code",
   "execution_count": 272,
   "metadata": {},
   "outputs": [
    {
     "data": {
      "text/plain": [
       "0.7007512520868113"
      ]
     },
     "execution_count": 272,
     "metadata": {},
     "output_type": "execute_result"
    }
   ],
   "source": [
    "# test the model\n",
    "tree_model.score(X_test, y_test)"
   ]
  },
  {
   "cell_type": "code",
   "execution_count": 273,
   "metadata": {},
   "outputs": [
    {
     "name": "stdout",
     "output_type": "stream",
     "text": [
      "Accuracy: 0.70 (+/- 0.00)\n"
     ]
    }
   ],
   "source": [
    "scores = cross_val_score(tree_model, X, y, cv=5)\n",
    "print(\"Accuracy: %0.2f (+/- %0.2f)\" % (scores.mean(), scores.std() * 2))"
   ]
  },
  {
   "cell_type": "markdown",
   "metadata": {},
   "source": [
    "Linear SVM"
   ]
  },
  {
   "cell_type": "code",
   "execution_count": 274,
   "metadata": {},
   "outputs": [
    {
     "data": {
      "text/plain": [
       "SVC(C=0.1, gamma=0.1, kernel='linear')"
      ]
     },
     "execution_count": 274,
     "metadata": {},
     "output_type": "execute_result"
    }
   ],
   "source": [
    "from sklearn import svm\n",
    "\n",
    "# Train test split\n",
    "X_train, X_test, y_train, y_test = train_test_split(X, y, test_size=0.20)\n",
    "\n",
    "# train the model\n",
    "svm_model = svm.SVC(kernel='linear', C=0.1, gamma=0.1)\n",
    "svm_model.fit(X_train, y_train)"
   ]
  },
  {
   "cell_type": "code",
   "execution_count": 275,
   "metadata": {},
   "outputs": [
    {
     "data": {
      "text/plain": [
       "0.7014575574675742"
      ]
     },
     "execution_count": 275,
     "metadata": {},
     "output_type": "execute_result"
    }
   ],
   "source": [
    "# test the model\n",
    "svm_model.score(X_test, y_test)"
   ]
  },
  {
   "cell_type": "code",
   "execution_count": 276,
   "metadata": {},
   "outputs": [
    {
     "name": "stdout",
     "output_type": "stream",
     "text": [
      "Accuracy: 0.70 (+/- 0.00)\n"
     ]
    }
   ],
   "source": [
    "scores = cross_val_score(svm_model, X, y, cv=5)\n",
    "print(\"Accuracy: %0.2f (+/- %0.2f)\" % (scores.mean(), scores.std() * 2))"
   ]
  },
  {
   "cell_type": "markdown",
   "metadata": {},
   "source": [
    "Logistic Regression"
   ]
  },
  {
   "cell_type": "code",
   "execution_count": 277,
   "metadata": {},
   "outputs": [
    {
     "data": {
      "text/plain": [
       "LogisticRegression()"
      ]
     },
     "execution_count": 277,
     "metadata": {},
     "output_type": "execute_result"
    }
   ],
   "source": [
    "from sklearn.linear_model import LogisticRegression\n",
    "\n",
    "# Train test split\n",
    "X_train, X_test, y_train, y_test = train_test_split(X, y, test_size=0.20)\n",
    "\n",
    "# train the model\n",
    "LR_model = LogisticRegression()\n",
    "LR_model.fit(X_train, y_train)"
   ]
  },
  {
   "cell_type": "code",
   "execution_count": 278,
   "metadata": {},
   "outputs": [
    {
     "data": {
      "text/plain": [
       "0.7029985873892385"
      ]
     },
     "execution_count": 278,
     "metadata": {},
     "output_type": "execute_result"
    }
   ],
   "source": [
    "# test the model\n",
    "LR_model.score(X_test, y_test)"
   ]
  },
  {
   "cell_type": "code",
   "execution_count": 279,
   "metadata": {},
   "outputs": [
    {
     "name": "stdout",
     "output_type": "stream",
     "text": [
      "Accuracy: 0.70 (+/- 0.00)\n"
     ]
    }
   ],
   "source": [
    "scores = cross_val_score(LR_model, X, y, cv=5)\n",
    "print(\"Accuracy: %0.2f (+/- %0.2f)\" % (scores.mean(), scores.std() * 2))"
   ]
  },
  {
   "cell_type": "markdown",
   "metadata": {},
   "source": [
    "# 7. Model Evaluation"
   ]
  },
  {
   "cell_type": "code",
   "execution_count": 280,
   "metadata": {},
   "outputs": [
    {
     "data": {
      "text/plain": [
       "(38935, 10)"
      ]
     },
     "execution_count": 280,
     "metadata": {},
     "output_type": "execute_result"
    }
   ],
   "source": [
    "# test models on new datas\n",
    "feature_selected = df_test[['DATE', 'LIGHTCOND_1', 'LIGHTCOND_3', 'LIGHTCOND_2', 'STATUS_0', \n",
    "                              'ST_COLCODE_0', 'VEHCOUNT_0', 'UNDERINFL_1', 'LIGHTCOND_4', 'ST_COLCODE_10']]\n",
    "\n",
    "test_Feature = feature_selected\n",
    "test_Feature = preprocessing.StandardScaler().fit(test_Feature).transform(test_Feature)\n",
    "test_Feature.shape"
   ]
  },
  {
   "cell_type": "code",
   "execution_count": 281,
   "metadata": {},
   "outputs": [
    {
     "data": {
      "text/plain": [
       "(38935,)"
      ]
     },
     "execution_count": 281,
     "metadata": {},
     "output_type": "execute_result"
    }
   ],
   "source": [
    "y_true = df_test['SEVERITYCODE'].values\n",
    "y_true.shape"
   ]
  },
  {
   "cell_type": "code",
   "execution_count": 282,
   "metadata": {},
   "outputs": [],
   "source": [
    "from sklearn.metrics import jaccard_score\n",
    "from sklearn.metrics import f1_score\n",
    "from sklearn.metrics import log_loss\n",
    "\n",
    "# knn F1&jaccard score\n",
    "knn_yhat = KNN_model.predict(test_Feature)\n",
    "knn_f1 = round(f1_score(y_true, knn_yhat, average='weighted'), 2)\n",
    "knn_jaccard = round(jaccard_score(y_true, knn_yhat), 2)\n",
    "\n",
    "# Decision Tree F1&jaccard score\n",
    "DT_yhat = tree_model.predict(test_Feature)\n",
    "DT_f1 = round(f1_score(y_true, DT_yhat, average='weighted'), 2)\n",
    "DT_jaccard = round(jaccard_score(y_true, DT_yhat), 2)\n",
    "\n",
    "# Support Vector Machine Tree F1&jaccard score\n",
    "svm_yhat = svm_model.predict(test_Feature)\n",
    "svm_f1 = round(f1_score(y_true, svm_yhat, average='weighted'), 2)\n",
    "svm_jaccard = round(jaccard_score(y_true, svm_yhat), 2)\n",
    "\n",
    "# Logistic Regression F1&jaccard& logloss score\n",
    "LR_yhat = LR_model.predict(test_Feature)\n",
    "LR_prob = LR_model.predict_proba(test_Feature)\n",
    "LR_f1 = round(f1_score(y_true, LR_yhat, average='weighted'), 2)\n",
    "LR_jaccard = round(jaccard_score(y_true, LR_yhat), 2)\n",
    "\n",
    "# log loss\n",
    "loss = log_loss(y_true, LR_prob)"
   ]
  },
  {
   "cell_type": "code",
   "execution_count": 283,
   "metadata": {
    "scrolled": true
   },
   "outputs": [
    {
     "data": {
      "text/html": [
       "<div>\n",
       "<style scoped>\n",
       "    .dataframe tbody tr th:only-of-type {\n",
       "        vertical-align: middle;\n",
       "    }\n",
       "\n",
       "    .dataframe tbody tr th {\n",
       "        vertical-align: top;\n",
       "    }\n",
       "\n",
       "    .dataframe thead th {\n",
       "        text-align: right;\n",
       "    }\n",
       "</style>\n",
       "<table border=\"1\" class=\"dataframe\">\n",
       "  <thead>\n",
       "    <tr style=\"text-align: right;\">\n",
       "      <th></th>\n",
       "      <th>Jaccard</th>\n",
       "      <th>F1-score</th>\n",
       "      <th>LogLoss</th>\n",
       "    </tr>\n",
       "    <tr>\n",
       "      <th>Algorithm</th>\n",
       "      <th></th>\n",
       "      <th></th>\n",
       "      <th></th>\n",
       "    </tr>\n",
       "  </thead>\n",
       "  <tbody>\n",
       "    <tr>\n",
       "      <th>KNN</th>\n",
       "      <td>0.62</td>\n",
       "      <td>0.61</td>\n",
       "      <td>NA</td>\n",
       "    </tr>\n",
       "    <tr>\n",
       "      <th>Decision Tree</th>\n",
       "      <td>0.7</td>\n",
       "      <td>0.59</td>\n",
       "      <td>NA</td>\n",
       "    </tr>\n",
       "    <tr>\n",
       "      <th>SVM</th>\n",
       "      <td>0.58</td>\n",
       "      <td>0.58</td>\n",
       "      <td>NA</td>\n",
       "    </tr>\n",
       "    <tr>\n",
       "      <th>LogisticRegression</th>\n",
       "      <td>0.71</td>\n",
       "      <td>0.58</td>\n",
       "      <td>0.5900076451029392</td>\n",
       "    </tr>\n",
       "  </tbody>\n",
       "</table>\n",
       "</div>"
      ],
      "text/plain": [
       "                   Jaccard F1-score             LogLoss\n",
       "Algorithm                                              \n",
       "KNN                   0.62     0.61                  NA\n",
       "Decision Tree          0.7     0.59                  NA\n",
       "SVM                   0.58     0.58                  NA\n",
       "LogisticRegression    0.71     0.58  0.5900076451029392"
      ]
     },
     "execution_count": 283,
     "metadata": {},
     "output_type": "execute_result"
    }
   ],
   "source": [
    "# display reports\n",
    "df_report = pd.DataFrame(np.array([['KNN', knn_jaccard, knn_f1,'NA'], \n",
    "                                   ['Decision Tree',DT_jaccard, DT_f1,'NA'], \n",
    "                                   ['SVM',svm_f1, svm_f1,'NA'],\n",
    "                                   [\"LogisticRegression\", LR_jaccard, LR_f1, loss]]),\n",
    "                           columns=['Algorithm', 'Jaccard', 'F1-score', \"LogLoss\"])\n",
    "df_report.set_index('Algorithm')"
   ]
  },
  {
   "cell_type": "markdown",
   "metadata": {},
   "source": [
    "# 8. Conclusion"
   ]
  },
  {
   "cell_type": "markdown",
   "metadata": {},
   "source": [
    "Before understanding the data, I had a thought that maybe we could reduce servierty on car accidents by identifying what causes serverty to go up or down. That plan was limited by the nature of data from the start. For example, the target variable did not come in the form of 0-n serviery. It rather came in the form of 2 possible outcomes. Like I stated earlier, it's much more of a classification problem. That means stakeholders and beneficiaries might change slightly. In other words, we can't identify what features reduce collision servierty, but we can tell what features lead to either injury or property damage. So now a more realistic target audience is whoever is in charge of where to allocate resources for emergency response and fixing damaged public infrastructures.\n",
    "\n",
    "In the beginning of this journey, we dived deep into the land of data provided by SPD(seattle police department) and found ourselves swimming among an ocean of features. Some seem promising, others not so much. Initially, features such as weather, X(longitude), Y(latitude), UNDERINFL(under influence), ‘HITPARKEDCAR’, ‘ROADCOND’, and ‘LIGHTCOND’ seem promising while arbitrary features such as ST_COLCODE, SDOT_COLCODE, STATUS seemed unrelated or has weak connections at best. It turns out that neither was my initial intuition correct nor is it wrong. After all, I think this is what makes good findings in the realm of statistics: surprising but not outlandish.\n",
    "\n",
    "Despite what “Feature Importance’’ feature selection technique is telling me, I spent a great amount of time only to realize longitude and latitude actually don’t matter that much. The first hammer landed on my head when I used a folium library to display car accidents via marker clusters(a technique that combines massive amounts of tags in dense areas into one circle). After filling all the missing/NA values and nearly crashing my laptop only to find little pattern between location and severity code, I persisted to feature selection and even training models. I did get some promising results from initial intuition with “distplot” showing features such as ‘JUNCTIONTYPE’ and ‘ROADCOND’ has some good correlations, just not as much as I would like.\n",
    "Let’s go back to the drawing board and see what we are missing. Ah ha, “distplot” once again saved the day by telling us that ‘ST_COLCODE’ and ‘SDOT_COLCODE’ have a huge difference in severity code 1 and 2. Although I deleted them because I didn’t know what to do with them for the greater half of my project. But that doesn’t matter, because now we realize our mistakes and once we add these magic in our model we will get a 99% accuracy rate, pop champagne, celebrate, right? No, both feature selection techniques(Univariate_feature & feature_Importance) only show ‘ST_COLCODE’ and ‘SDOT_COLCODE’ has average correlation and heatmap showing them as even below average importance. Again my perseverance has been tested. So I went back to feature engineering and encoding, hoping this time the 2 features will rise to the top like a phoenix. It didn’t, It actually dropped lower than before and remained practically unchanged in the heatmap(face palm). At this point even if the model increases 10% in accuracy it’s worth it. I got some mix results; while SDOT_SOLCODE provided volatile results, ST_COLCODE is consistently recommended by all 3 feature selection techniques, yes, not a complete waste of time.\n",
    "\n",
    "So if it’s neither super obvious features nor it’s super arcane features, then what? It turns out the answer is right in front of me all along(just like the movies). ‘ST_COLCODE’, ‘PEDCOUNT’, ‘ROADCON’, ‘COLLISIONTYPE’, ‘JUNCTIONTYPE’ and few others proved to be indispensable features for the training models. They are not super obvious or arcane. So common sense did prevail, kind of, in the form of ‘PEDCOUNT’..etc. But it did little to justify features such as ‘ST_COLCODE’ or ‘HITPARKEDCAR’. But wait a minute, doesn’t it make sense that ‘COLLISIONTYPE’ of “parked car” also means more property damage? Because it literally said hit-parked-car? Or cases with ST_COLCODE that literally spelled out the nature of the accident(i.e., hitting a cyclist) are followed by a high injury rate? Well, yes it does, it just doesn’t sound too exciting. However, common sense did win and I would argue it should always win. Sometimes information is hidden in a form that we need technology to clear the clusters of noises in order for our common sense to see things more clearly. In this project, ‘ST_COLCODE’ is that kind of information. Location, weather, and time gave us little indication of severity code. What actually happened in the record such as ‘ST_COLCODE’ and ‘JUNCTIONTYPE’ gave us the biggest clue. Thank you for reading.\n"
   ]
  },
  {
   "cell_type": "code",
   "execution_count": null,
   "metadata": {},
   "outputs": [],
   "source": []
  }
 ],
 "metadata": {
  "kernelspec": {
   "display_name": "Python 3",
   "language": "python",
   "name": "python3"
  },
  "language_info": {
   "codemirror_mode": {
    "name": "ipython",
    "version": 3
   },
   "file_extension": ".py",
   "mimetype": "text/x-python",
   "name": "python",
   "nbconvert_exporter": "python",
   "pygments_lexer": "ipython3",
   "version": "3.8.3"
  }
 },
 "nbformat": 4,
 "nbformat_minor": 4
}
